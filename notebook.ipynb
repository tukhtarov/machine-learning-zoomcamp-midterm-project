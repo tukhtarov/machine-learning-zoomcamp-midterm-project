{
 "cells": [
  {
   "cell_type": "code",
   "execution_count": 237,
   "id": "15cbecdd-6c5b-4e7c-982d-6621139a957a",
   "metadata": {
    "tags": []
   },
   "outputs": [],
   "source": [
    "import pandas as pd\n",
    "import numpy as np\n",
    "import pickle\n",
    "from scipy.io.arff import loadarff \n",
    "from sklearn.model_selection import train_test_split\n",
    "from sklearn.feature_extraction import DictVectorizer\n",
    "from IPython.display import display\n",
    "from sklearn.metrics import mutual_info_score\n",
    "from sklearn.preprocessing import StandardScaler\n",
    "from sklearn.linear_model import LogisticRegression\n",
    "from sklearn.tree import DecisionTreeClassifier\n",
    "from sklearn.metrics import accuracy_score\n",
    "from sklearn.metrics import roc_auc_score\n",
    "from sklearn.ensemble import RandomForestClassifier\n",
    "import seaborn as sns\n",
    "from matplotlib import pyplot as plt\n",
    "%matplotlib inline\n",
    "from sklearn.preprocessing import OneHotEncoder"
   ]
  },
  {
   "cell_type": "markdown",
   "id": "42bd368e-531f-4bc7-b22b-9ff4554efe39",
   "metadata": {},
   "source": [
    "## Data preparation and data cleaning"
   ]
  },
  {
   "cell_type": "code",
   "execution_count": 238,
   "id": "639b92bd-0e78-4563-84a1-74f26486f0e9",
   "metadata": {
    "tags": []
   },
   "outputs": [
    {
     "data": {
      "text/html": [
       "<div>\n",
       "<style scoped>\n",
       "    .dataframe tbody tr th:only-of-type {\n",
       "        vertical-align: middle;\n",
       "    }\n",
       "\n",
       "    .dataframe tbody tr th {\n",
       "        vertical-align: top;\n",
       "    }\n",
       "\n",
       "    .dataframe thead th {\n",
       "        text-align: right;\n",
       "    }\n",
       "</style>\n",
       "<table border=\"1\" class=\"dataframe\">\n",
       "  <thead>\n",
       "    <tr style=\"text-align: right;\">\n",
       "      <th></th>\n",
       "      <th>V1</th>\n",
       "      <th>V2</th>\n",
       "      <th>V3</th>\n",
       "      <th>V4</th>\n",
       "      <th>V5</th>\n",
       "      <th>V6</th>\n",
       "      <th>V7</th>\n",
       "      <th>V8</th>\n",
       "      <th>V9</th>\n",
       "      <th>V10</th>\n",
       "      <th>V11</th>\n",
       "      <th>V12</th>\n",
       "      <th>V13</th>\n",
       "      <th>V14</th>\n",
       "      <th>V15</th>\n",
       "      <th>V16</th>\n",
       "      <th>Class</th>\n",
       "    </tr>\n",
       "  </thead>\n",
       "  <tbody>\n",
       "    <tr>\n",
       "      <th>0</th>\n",
       "      <td>58.0</td>\n",
       "      <td>b'management'</td>\n",
       "      <td>b'married'</td>\n",
       "      <td>b'tertiary'</td>\n",
       "      <td>b'no'</td>\n",
       "      <td>2143.0</td>\n",
       "      <td>b'yes'</td>\n",
       "      <td>b'no'</td>\n",
       "      <td>b'unknown'</td>\n",
       "      <td>5.0</td>\n",
       "      <td>b'may'</td>\n",
       "      <td>261.0</td>\n",
       "      <td>1.0</td>\n",
       "      <td>-1.0</td>\n",
       "      <td>0.0</td>\n",
       "      <td>b'unknown'</td>\n",
       "      <td>b'1'</td>\n",
       "    </tr>\n",
       "    <tr>\n",
       "      <th>1</th>\n",
       "      <td>44.0</td>\n",
       "      <td>b'technician'</td>\n",
       "      <td>b'single'</td>\n",
       "      <td>b'secondary'</td>\n",
       "      <td>b'no'</td>\n",
       "      <td>29.0</td>\n",
       "      <td>b'yes'</td>\n",
       "      <td>b'no'</td>\n",
       "      <td>b'unknown'</td>\n",
       "      <td>5.0</td>\n",
       "      <td>b'may'</td>\n",
       "      <td>151.0</td>\n",
       "      <td>1.0</td>\n",
       "      <td>-1.0</td>\n",
       "      <td>0.0</td>\n",
       "      <td>b'unknown'</td>\n",
       "      <td>b'1'</td>\n",
       "    </tr>\n",
       "    <tr>\n",
       "      <th>2</th>\n",
       "      <td>33.0</td>\n",
       "      <td>b'entrepreneur'</td>\n",
       "      <td>b'married'</td>\n",
       "      <td>b'secondary'</td>\n",
       "      <td>b'no'</td>\n",
       "      <td>2.0</td>\n",
       "      <td>b'yes'</td>\n",
       "      <td>b'yes'</td>\n",
       "      <td>b'unknown'</td>\n",
       "      <td>5.0</td>\n",
       "      <td>b'may'</td>\n",
       "      <td>76.0</td>\n",
       "      <td>1.0</td>\n",
       "      <td>-1.0</td>\n",
       "      <td>0.0</td>\n",
       "      <td>b'unknown'</td>\n",
       "      <td>b'1'</td>\n",
       "    </tr>\n",
       "    <tr>\n",
       "      <th>3</th>\n",
       "      <td>47.0</td>\n",
       "      <td>b'blue-collar'</td>\n",
       "      <td>b'married'</td>\n",
       "      <td>b'unknown'</td>\n",
       "      <td>b'no'</td>\n",
       "      <td>1506.0</td>\n",
       "      <td>b'yes'</td>\n",
       "      <td>b'no'</td>\n",
       "      <td>b'unknown'</td>\n",
       "      <td>5.0</td>\n",
       "      <td>b'may'</td>\n",
       "      <td>92.0</td>\n",
       "      <td>1.0</td>\n",
       "      <td>-1.0</td>\n",
       "      <td>0.0</td>\n",
       "      <td>b'unknown'</td>\n",
       "      <td>b'1'</td>\n",
       "    </tr>\n",
       "    <tr>\n",
       "      <th>4</th>\n",
       "      <td>33.0</td>\n",
       "      <td>b'unknown'</td>\n",
       "      <td>b'single'</td>\n",
       "      <td>b'unknown'</td>\n",
       "      <td>b'no'</td>\n",
       "      <td>1.0</td>\n",
       "      <td>b'no'</td>\n",
       "      <td>b'no'</td>\n",
       "      <td>b'unknown'</td>\n",
       "      <td>5.0</td>\n",
       "      <td>b'may'</td>\n",
       "      <td>198.0</td>\n",
       "      <td>1.0</td>\n",
       "      <td>-1.0</td>\n",
       "      <td>0.0</td>\n",
       "      <td>b'unknown'</td>\n",
       "      <td>b'1'</td>\n",
       "    </tr>\n",
       "  </tbody>\n",
       "</table>\n",
       "</div>"
      ],
      "text/plain": [
       "     V1               V2          V3            V4     V5      V6      V7  \\\n",
       "0  58.0    b'management'  b'married'   b'tertiary'  b'no'  2143.0  b'yes'   \n",
       "1  44.0    b'technician'   b'single'  b'secondary'  b'no'    29.0  b'yes'   \n",
       "2  33.0  b'entrepreneur'  b'married'  b'secondary'  b'no'     2.0  b'yes'   \n",
       "3  47.0   b'blue-collar'  b'married'    b'unknown'  b'no'  1506.0  b'yes'   \n",
       "4  33.0       b'unknown'   b'single'    b'unknown'  b'no'     1.0   b'no'   \n",
       "\n",
       "       V8          V9  V10     V11    V12  V13  V14  V15         V16 Class  \n",
       "0   b'no'  b'unknown'  5.0  b'may'  261.0  1.0 -1.0  0.0  b'unknown'  b'1'  \n",
       "1   b'no'  b'unknown'  5.0  b'may'  151.0  1.0 -1.0  0.0  b'unknown'  b'1'  \n",
       "2  b'yes'  b'unknown'  5.0  b'may'   76.0  1.0 -1.0  0.0  b'unknown'  b'1'  \n",
       "3   b'no'  b'unknown'  5.0  b'may'   92.0  1.0 -1.0  0.0  b'unknown'  b'1'  \n",
       "4   b'no'  b'unknown'  5.0  b'may'  198.0  1.0 -1.0  0.0  b'unknown'  b'1'  "
      ]
     },
     "execution_count": 238,
     "metadata": {},
     "output_type": "execute_result"
    }
   ],
   "source": [
    "raw_data = loadarff('phpkIxskf.arff')\n",
    "df = pd.DataFrame(raw_data[0])\n",
    "df.head()"
   ]
  },
  {
   "cell_type": "code",
   "execution_count": 239,
   "id": "9dace1ba-a3a9-4dcd-b37a-e0c237b5aff6",
   "metadata": {
    "tags": []
   },
   "outputs": [],
   "source": [
    "df.columns = df.columns.str.lower()\n",
    "df = df.rename(columns={\n",
    "    \"v1\": \"age\",\n",
    "    \"v2\": \"job\",\n",
    "    \"v3\": \"marital_status\",\n",
    "    \"v4\": \"education\",\n",
    "    \"v5\": \"credit_in_default\",\n",
    "    \"v6\": \"average_balance\",\n",
    "    \"v7\": \"has_housing_loan\",\n",
    "    \"v8\": \"has_personal_loan\",\n",
    "    \"v9\": \"contact_type\",\n",
    "    \"v10\": \"day\",\n",
    "    \"v11\": \"month\",\n",
    "    \"v12\": \"duration\",\n",
    "    \"v13\": \"number_contacts\",\n",
    "    \"v14\": \"pdays\",\n",
    "    \"v15\": \"number_contacts_before\",\n",
    "    \"v16\": \"previous_outcome\",\n",
    "    \"class\": \"target\"})"
   ]
  },
  {
   "cell_type": "code",
   "execution_count": 240,
   "id": "4959326d-179b-4a13-83bf-605a343d053c",
   "metadata": {
    "tags": []
   },
   "outputs": [],
   "source": [
    "for feat in ['job', 'marital_status', 'education', 'credit_in_default', 'has_housing_loan', 'has_personal_loan', 'contact_type', 'month', 'previous_outcome', 'target']:\n",
    "    df[feat] = df[feat].str.decode('utf-8')"
   ]
  },
  {
   "cell_type": "code",
   "execution_count": 241,
   "id": "abc624fc-d531-4855-a4a3-f868f87a8cbb",
   "metadata": {
    "tags": []
   },
   "outputs": [
    {
     "data": {
      "text/html": [
       "<div>\n",
       "<style scoped>\n",
       "    .dataframe tbody tr th:only-of-type {\n",
       "        vertical-align: middle;\n",
       "    }\n",
       "\n",
       "    .dataframe tbody tr th {\n",
       "        vertical-align: top;\n",
       "    }\n",
       "\n",
       "    .dataframe thead th {\n",
       "        text-align: right;\n",
       "    }\n",
       "</style>\n",
       "<table border=\"1\" class=\"dataframe\">\n",
       "  <thead>\n",
       "    <tr style=\"text-align: right;\">\n",
       "      <th></th>\n",
       "      <th>age</th>\n",
       "      <th>job</th>\n",
       "      <th>marital_status</th>\n",
       "      <th>education</th>\n",
       "      <th>credit_in_default</th>\n",
       "      <th>average_balance</th>\n",
       "      <th>has_housing_loan</th>\n",
       "      <th>has_personal_loan</th>\n",
       "      <th>contact_type</th>\n",
       "      <th>day</th>\n",
       "      <th>month</th>\n",
       "      <th>duration</th>\n",
       "      <th>number_contacts</th>\n",
       "      <th>pdays</th>\n",
       "      <th>number_contacts_before</th>\n",
       "      <th>previous_outcome</th>\n",
       "      <th>target</th>\n",
       "    </tr>\n",
       "  </thead>\n",
       "  <tbody>\n",
       "    <tr>\n",
       "      <th>0</th>\n",
       "      <td>58.0</td>\n",
       "      <td>management</td>\n",
       "      <td>married</td>\n",
       "      <td>tertiary</td>\n",
       "      <td>no</td>\n",
       "      <td>2143.0</td>\n",
       "      <td>yes</td>\n",
       "      <td>no</td>\n",
       "      <td>unknown</td>\n",
       "      <td>5.0</td>\n",
       "      <td>may</td>\n",
       "      <td>261.0</td>\n",
       "      <td>1.0</td>\n",
       "      <td>-1.0</td>\n",
       "      <td>0.0</td>\n",
       "      <td>unknown</td>\n",
       "      <td>1</td>\n",
       "    </tr>\n",
       "    <tr>\n",
       "      <th>1</th>\n",
       "      <td>44.0</td>\n",
       "      <td>technician</td>\n",
       "      <td>single</td>\n",
       "      <td>secondary</td>\n",
       "      <td>no</td>\n",
       "      <td>29.0</td>\n",
       "      <td>yes</td>\n",
       "      <td>no</td>\n",
       "      <td>unknown</td>\n",
       "      <td>5.0</td>\n",
       "      <td>may</td>\n",
       "      <td>151.0</td>\n",
       "      <td>1.0</td>\n",
       "      <td>-1.0</td>\n",
       "      <td>0.0</td>\n",
       "      <td>unknown</td>\n",
       "      <td>1</td>\n",
       "    </tr>\n",
       "    <tr>\n",
       "      <th>2</th>\n",
       "      <td>33.0</td>\n",
       "      <td>entrepreneur</td>\n",
       "      <td>married</td>\n",
       "      <td>secondary</td>\n",
       "      <td>no</td>\n",
       "      <td>2.0</td>\n",
       "      <td>yes</td>\n",
       "      <td>yes</td>\n",
       "      <td>unknown</td>\n",
       "      <td>5.0</td>\n",
       "      <td>may</td>\n",
       "      <td>76.0</td>\n",
       "      <td>1.0</td>\n",
       "      <td>-1.0</td>\n",
       "      <td>0.0</td>\n",
       "      <td>unknown</td>\n",
       "      <td>1</td>\n",
       "    </tr>\n",
       "    <tr>\n",
       "      <th>3</th>\n",
       "      <td>47.0</td>\n",
       "      <td>blue-collar</td>\n",
       "      <td>married</td>\n",
       "      <td>unknown</td>\n",
       "      <td>no</td>\n",
       "      <td>1506.0</td>\n",
       "      <td>yes</td>\n",
       "      <td>no</td>\n",
       "      <td>unknown</td>\n",
       "      <td>5.0</td>\n",
       "      <td>may</td>\n",
       "      <td>92.0</td>\n",
       "      <td>1.0</td>\n",
       "      <td>-1.0</td>\n",
       "      <td>0.0</td>\n",
       "      <td>unknown</td>\n",
       "      <td>1</td>\n",
       "    </tr>\n",
       "    <tr>\n",
       "      <th>4</th>\n",
       "      <td>33.0</td>\n",
       "      <td>unknown</td>\n",
       "      <td>single</td>\n",
       "      <td>unknown</td>\n",
       "      <td>no</td>\n",
       "      <td>1.0</td>\n",
       "      <td>no</td>\n",
       "      <td>no</td>\n",
       "      <td>unknown</td>\n",
       "      <td>5.0</td>\n",
       "      <td>may</td>\n",
       "      <td>198.0</td>\n",
       "      <td>1.0</td>\n",
       "      <td>-1.0</td>\n",
       "      <td>0.0</td>\n",
       "      <td>unknown</td>\n",
       "      <td>1</td>\n",
       "    </tr>\n",
       "  </tbody>\n",
       "</table>\n",
       "</div>"
      ],
      "text/plain": [
       "    age           job marital_status  education credit_in_default  \\\n",
       "0  58.0    management        married   tertiary                no   \n",
       "1  44.0    technician         single  secondary                no   \n",
       "2  33.0  entrepreneur        married  secondary                no   \n",
       "3  47.0   blue-collar        married    unknown                no   \n",
       "4  33.0       unknown         single    unknown                no   \n",
       "\n",
       "   average_balance has_housing_loan has_personal_loan contact_type  day month  \\\n",
       "0           2143.0              yes                no      unknown  5.0   may   \n",
       "1             29.0              yes                no      unknown  5.0   may   \n",
       "2              2.0              yes               yes      unknown  5.0   may   \n",
       "3           1506.0              yes                no      unknown  5.0   may   \n",
       "4              1.0               no                no      unknown  5.0   may   \n",
       "\n",
       "   duration  number_contacts  pdays  number_contacts_before previous_outcome  \\\n",
       "0     261.0              1.0   -1.0                     0.0          unknown   \n",
       "1     151.0              1.0   -1.0                     0.0          unknown   \n",
       "2      76.0              1.0   -1.0                     0.0          unknown   \n",
       "3      92.0              1.0   -1.0                     0.0          unknown   \n",
       "4     198.0              1.0   -1.0                     0.0          unknown   \n",
       "\n",
       "  target  \n",
       "0      1  \n",
       "1      1  \n",
       "2      1  \n",
       "3      1  \n",
       "4      1  "
      ]
     },
     "execution_count": 241,
     "metadata": {},
     "output_type": "execute_result"
    }
   ],
   "source": [
    "df.head()"
   ]
  },
  {
   "cell_type": "code",
   "execution_count": 242,
   "id": "48260cf2-8c39-42c9-9b81-da893384163f",
   "metadata": {
    "tags": []
   },
   "outputs": [],
   "source": [
    "df['target'] = (df['target'] == '2').astype(int)"
   ]
  },
  {
   "cell_type": "code",
   "execution_count": 243,
   "id": "569e4d06-fc39-4653-b977-2ac5eeff0741",
   "metadata": {
    "tags": []
   },
   "outputs": [
    {
     "data": {
      "text/plain": [
       "2"
      ]
     },
     "execution_count": 243,
     "metadata": {},
     "output_type": "execute_result"
    }
   ],
   "source": [
    "df['target'].nunique()"
   ]
  },
  {
   "cell_type": "code",
   "execution_count": 244,
   "id": "f749293b-25ee-4ea0-9b46-95c95fd365bc",
   "metadata": {
    "tags": []
   },
   "outputs": [
    {
     "data": {
      "text/plain": [
       "array([0, 1])"
      ]
     },
     "execution_count": 244,
     "metadata": {},
     "output_type": "execute_result"
    }
   ],
   "source": [
    "df['target'].unique()"
   ]
  },
  {
   "cell_type": "code",
   "execution_count": 245,
   "id": "84f8d2d2-7a87-4914-afd3-0d6735ef0c19",
   "metadata": {
    "tags": []
   },
   "outputs": [
    {
     "data": {
      "text/plain": [
       "0        0\n",
       "1        0\n",
       "2        0\n",
       "3        0\n",
       "4        0\n",
       "        ..\n",
       "45206    1\n",
       "45207    1\n",
       "45208    1\n",
       "45209    0\n",
       "45210    0\n",
       "Name: target, Length: 45211, dtype: int32"
      ]
     },
     "execution_count": 245,
     "metadata": {},
     "output_type": "execute_result"
    }
   ],
   "source": [
    "df['target']"
   ]
  },
  {
   "cell_type": "code",
   "execution_count": 246,
   "id": "f8970b3a-0e21-402e-b5a8-3e169eef5fae",
   "metadata": {
    "tags": []
   },
   "outputs": [
    {
     "data": {
      "text/html": [
       "<div>\n",
       "<style scoped>\n",
       "    .dataframe tbody tr th:only-of-type {\n",
       "        vertical-align: middle;\n",
       "    }\n",
       "\n",
       "    .dataframe tbody tr th {\n",
       "        vertical-align: top;\n",
       "    }\n",
       "\n",
       "    .dataframe thead th {\n",
       "        text-align: right;\n",
       "    }\n",
       "</style>\n",
       "<table border=\"1\" class=\"dataframe\">\n",
       "  <thead>\n",
       "    <tr style=\"text-align: right;\">\n",
       "      <th></th>\n",
       "      <th>age</th>\n",
       "      <th>job</th>\n",
       "      <th>marital_status</th>\n",
       "      <th>education</th>\n",
       "      <th>credit_in_default</th>\n",
       "      <th>average_balance</th>\n",
       "      <th>has_housing_loan</th>\n",
       "      <th>has_personal_loan</th>\n",
       "      <th>contact_type</th>\n",
       "      <th>day</th>\n",
       "      <th>month</th>\n",
       "      <th>duration</th>\n",
       "      <th>number_contacts</th>\n",
       "      <th>pdays</th>\n",
       "      <th>number_contacts_before</th>\n",
       "      <th>previous_outcome</th>\n",
       "      <th>target</th>\n",
       "    </tr>\n",
       "  </thead>\n",
       "  <tbody>\n",
       "    <tr>\n",
       "      <th>0</th>\n",
       "      <td>58.0</td>\n",
       "      <td>management</td>\n",
       "      <td>married</td>\n",
       "      <td>tertiary</td>\n",
       "      <td>no</td>\n",
       "      <td>2143.0</td>\n",
       "      <td>yes</td>\n",
       "      <td>no</td>\n",
       "      <td>unknown</td>\n",
       "      <td>5.0</td>\n",
       "      <td>may</td>\n",
       "      <td>261.0</td>\n",
       "      <td>1.0</td>\n",
       "      <td>-1.0</td>\n",
       "      <td>0.0</td>\n",
       "      <td>unknown</td>\n",
       "      <td>0</td>\n",
       "    </tr>\n",
       "    <tr>\n",
       "      <th>1</th>\n",
       "      <td>44.0</td>\n",
       "      <td>technician</td>\n",
       "      <td>single</td>\n",
       "      <td>secondary</td>\n",
       "      <td>no</td>\n",
       "      <td>29.0</td>\n",
       "      <td>yes</td>\n",
       "      <td>no</td>\n",
       "      <td>unknown</td>\n",
       "      <td>5.0</td>\n",
       "      <td>may</td>\n",
       "      <td>151.0</td>\n",
       "      <td>1.0</td>\n",
       "      <td>-1.0</td>\n",
       "      <td>0.0</td>\n",
       "      <td>unknown</td>\n",
       "      <td>0</td>\n",
       "    </tr>\n",
       "    <tr>\n",
       "      <th>2</th>\n",
       "      <td>33.0</td>\n",
       "      <td>entrepreneur</td>\n",
       "      <td>married</td>\n",
       "      <td>secondary</td>\n",
       "      <td>no</td>\n",
       "      <td>2.0</td>\n",
       "      <td>yes</td>\n",
       "      <td>yes</td>\n",
       "      <td>unknown</td>\n",
       "      <td>5.0</td>\n",
       "      <td>may</td>\n",
       "      <td>76.0</td>\n",
       "      <td>1.0</td>\n",
       "      <td>-1.0</td>\n",
       "      <td>0.0</td>\n",
       "      <td>unknown</td>\n",
       "      <td>0</td>\n",
       "    </tr>\n",
       "    <tr>\n",
       "      <th>3</th>\n",
       "      <td>47.0</td>\n",
       "      <td>blue-collar</td>\n",
       "      <td>married</td>\n",
       "      <td>unknown</td>\n",
       "      <td>no</td>\n",
       "      <td>1506.0</td>\n",
       "      <td>yes</td>\n",
       "      <td>no</td>\n",
       "      <td>unknown</td>\n",
       "      <td>5.0</td>\n",
       "      <td>may</td>\n",
       "      <td>92.0</td>\n",
       "      <td>1.0</td>\n",
       "      <td>-1.0</td>\n",
       "      <td>0.0</td>\n",
       "      <td>unknown</td>\n",
       "      <td>0</td>\n",
       "    </tr>\n",
       "    <tr>\n",
       "      <th>4</th>\n",
       "      <td>33.0</td>\n",
       "      <td>unknown</td>\n",
       "      <td>single</td>\n",
       "      <td>unknown</td>\n",
       "      <td>no</td>\n",
       "      <td>1.0</td>\n",
       "      <td>no</td>\n",
       "      <td>no</td>\n",
       "      <td>unknown</td>\n",
       "      <td>5.0</td>\n",
       "      <td>may</td>\n",
       "      <td>198.0</td>\n",
       "      <td>1.0</td>\n",
       "      <td>-1.0</td>\n",
       "      <td>0.0</td>\n",
       "      <td>unknown</td>\n",
       "      <td>0</td>\n",
       "    </tr>\n",
       "  </tbody>\n",
       "</table>\n",
       "</div>"
      ],
      "text/plain": [
       "    age           job marital_status  education credit_in_default  \\\n",
       "0  58.0    management        married   tertiary                no   \n",
       "1  44.0    technician         single  secondary                no   \n",
       "2  33.0  entrepreneur        married  secondary                no   \n",
       "3  47.0   blue-collar        married    unknown                no   \n",
       "4  33.0       unknown         single    unknown                no   \n",
       "\n",
       "   average_balance has_housing_loan has_personal_loan contact_type  day month  \\\n",
       "0           2143.0              yes                no      unknown  5.0   may   \n",
       "1             29.0              yes                no      unknown  5.0   may   \n",
       "2              2.0              yes               yes      unknown  5.0   may   \n",
       "3           1506.0              yes                no      unknown  5.0   may   \n",
       "4              1.0               no                no      unknown  5.0   may   \n",
       "\n",
       "   duration  number_contacts  pdays  number_contacts_before previous_outcome  \\\n",
       "0     261.0              1.0   -1.0                     0.0          unknown   \n",
       "1     151.0              1.0   -1.0                     0.0          unknown   \n",
       "2      76.0              1.0   -1.0                     0.0          unknown   \n",
       "3      92.0              1.0   -1.0                     0.0          unknown   \n",
       "4     198.0              1.0   -1.0                     0.0          unknown   \n",
       "\n",
       "   target  \n",
       "0       0  \n",
       "1       0  \n",
       "2       0  \n",
       "3       0  \n",
       "4       0  "
      ]
     },
     "execution_count": 246,
     "metadata": {},
     "output_type": "execute_result"
    }
   ],
   "source": [
    "df.head()"
   ]
  },
  {
   "cell_type": "code",
   "execution_count": 247,
   "id": "c43103e0-52b6-4e23-93ee-64f53a8c9ab4",
   "metadata": {
    "tags": []
   },
   "outputs": [],
   "source": [
    "df_full_train, df_test = train_test_split(df, test_size=0.2, random_state=1)\n",
    "df_train, df_val = train_test_split(df_full_train, test_size=0.25, random_state=1)"
   ]
  },
  {
   "cell_type": "code",
   "execution_count": 248,
   "id": "1d69cc31-6f37-4e60-93d2-d6afc047a430",
   "metadata": {
    "tags": []
   },
   "outputs": [
    {
     "data": {
      "text/plain": [
       "(36168, 9043)"
      ]
     },
     "execution_count": 248,
     "metadata": {},
     "output_type": "execute_result"
    }
   ],
   "source": [
    "len(df_full_train), len(df_test)"
   ]
  },
  {
   "cell_type": "code",
   "execution_count": 249,
   "id": "fed3d92d-63dc-4023-83c6-37a66e50339c",
   "metadata": {
    "tags": []
   },
   "outputs": [],
   "source": [
    "df_train = df_train.reset_index(drop=True)\n",
    "df_val = df_val.reset_index(drop=True)\n",
    "df_test = df_test.reset_index(drop=True)"
   ]
  },
  {
   "cell_type": "code",
   "execution_count": 250,
   "id": "3e951097-4f86-4f57-9641-5dfbf147a34e",
   "metadata": {
    "tags": []
   },
   "outputs": [],
   "source": [
    "y_train = df_train['target'].values\n",
    "y_val = df_val['target'].values\n",
    "y_test = df_test['target'].values"
   ]
  },
  {
   "cell_type": "code",
   "execution_count": 251,
   "id": "3f31bbaf-8683-4e4b-af13-fe982171f7fe",
   "metadata": {
    "tags": []
   },
   "outputs": [],
   "source": [
    "del df_train['target']\n",
    "del df_val['target']\n",
    "del df_test['target']"
   ]
  },
  {
   "cell_type": "code",
   "execution_count": 252,
   "id": "f5e37e57-8cf2-44b7-8e60-f47d76248ebb",
   "metadata": {
    "tags": []
   },
   "outputs": [
    {
     "data": {
      "text/html": [
       "<div>\n",
       "<style scoped>\n",
       "    .dataframe tbody tr th:only-of-type {\n",
       "        vertical-align: middle;\n",
       "    }\n",
       "\n",
       "    .dataframe tbody tr th {\n",
       "        vertical-align: top;\n",
       "    }\n",
       "\n",
       "    .dataframe thead th {\n",
       "        text-align: right;\n",
       "    }\n",
       "</style>\n",
       "<table border=\"1\" class=\"dataframe\">\n",
       "  <thead>\n",
       "    <tr style=\"text-align: right;\">\n",
       "      <th></th>\n",
       "      <th>age</th>\n",
       "      <th>job</th>\n",
       "      <th>marital_status</th>\n",
       "      <th>education</th>\n",
       "      <th>credit_in_default</th>\n",
       "      <th>average_balance</th>\n",
       "      <th>has_housing_loan</th>\n",
       "      <th>has_personal_loan</th>\n",
       "      <th>contact_type</th>\n",
       "      <th>day</th>\n",
       "      <th>month</th>\n",
       "      <th>duration</th>\n",
       "      <th>number_contacts</th>\n",
       "      <th>pdays</th>\n",
       "      <th>number_contacts_before</th>\n",
       "      <th>previous_outcome</th>\n",
       "    </tr>\n",
       "  </thead>\n",
       "  <tbody>\n",
       "    <tr>\n",
       "      <th>0</th>\n",
       "      <td>56.0</td>\n",
       "      <td>entrepreneur</td>\n",
       "      <td>married</td>\n",
       "      <td>tertiary</td>\n",
       "      <td>no</td>\n",
       "      <td>40.0</td>\n",
       "      <td>no</td>\n",
       "      <td>yes</td>\n",
       "      <td>cellular</td>\n",
       "      <td>11.0</td>\n",
       "      <td>jul</td>\n",
       "      <td>123.0</td>\n",
       "      <td>2.0</td>\n",
       "      <td>-1.0</td>\n",
       "      <td>0.0</td>\n",
       "      <td>unknown</td>\n",
       "    </tr>\n",
       "    <tr>\n",
       "      <th>1</th>\n",
       "      <td>33.0</td>\n",
       "      <td>technician</td>\n",
       "      <td>married</td>\n",
       "      <td>secondary</td>\n",
       "      <td>no</td>\n",
       "      <td>4790.0</td>\n",
       "      <td>yes</td>\n",
       "      <td>no</td>\n",
       "      <td>cellular</td>\n",
       "      <td>20.0</td>\n",
       "      <td>apr</td>\n",
       "      <td>137.0</td>\n",
       "      <td>1.0</td>\n",
       "      <td>272.0</td>\n",
       "      <td>2.0</td>\n",
       "      <td>failure</td>\n",
       "    </tr>\n",
       "    <tr>\n",
       "      <th>2</th>\n",
       "      <td>32.0</td>\n",
       "      <td>technician</td>\n",
       "      <td>single</td>\n",
       "      <td>tertiary</td>\n",
       "      <td>no</td>\n",
       "      <td>392.0</td>\n",
       "      <td>yes</td>\n",
       "      <td>no</td>\n",
       "      <td>cellular</td>\n",
       "      <td>21.0</td>\n",
       "      <td>nov</td>\n",
       "      <td>148.0</td>\n",
       "      <td>2.0</td>\n",
       "      <td>-1.0</td>\n",
       "      <td>0.0</td>\n",
       "      <td>unknown</td>\n",
       "    </tr>\n",
       "    <tr>\n",
       "      <th>3</th>\n",
       "      <td>40.0</td>\n",
       "      <td>admin.</td>\n",
       "      <td>divorced</td>\n",
       "      <td>secondary</td>\n",
       "      <td>no</td>\n",
       "      <td>2129.0</td>\n",
       "      <td>no</td>\n",
       "      <td>no</td>\n",
       "      <td>cellular</td>\n",
       "      <td>30.0</td>\n",
       "      <td>apr</td>\n",
       "      <td>452.0</td>\n",
       "      <td>1.0</td>\n",
       "      <td>-1.0</td>\n",
       "      <td>0.0</td>\n",
       "      <td>unknown</td>\n",
       "    </tr>\n",
       "    <tr>\n",
       "      <th>4</th>\n",
       "      <td>54.0</td>\n",
       "      <td>unemployed</td>\n",
       "      <td>married</td>\n",
       "      <td>tertiary</td>\n",
       "      <td>no</td>\n",
       "      <td>1180.0</td>\n",
       "      <td>no</td>\n",
       "      <td>no</td>\n",
       "      <td>cellular</td>\n",
       "      <td>19.0</td>\n",
       "      <td>nov</td>\n",
       "      <td>394.0</td>\n",
       "      <td>2.0</td>\n",
       "      <td>-1.0</td>\n",
       "      <td>0.0</td>\n",
       "      <td>unknown</td>\n",
       "    </tr>\n",
       "  </tbody>\n",
       "</table>\n",
       "</div>"
      ],
      "text/plain": [
       "    age           job marital_status  education credit_in_default  \\\n",
       "0  56.0  entrepreneur        married   tertiary                no   \n",
       "1  33.0    technician        married  secondary                no   \n",
       "2  32.0    technician         single   tertiary                no   \n",
       "3  40.0        admin.       divorced  secondary                no   \n",
       "4  54.0    unemployed        married   tertiary                no   \n",
       "\n",
       "   average_balance has_housing_loan has_personal_loan contact_type   day  \\\n",
       "0             40.0               no               yes     cellular  11.0   \n",
       "1           4790.0              yes                no     cellular  20.0   \n",
       "2            392.0              yes                no     cellular  21.0   \n",
       "3           2129.0               no                no     cellular  30.0   \n",
       "4           1180.0               no                no     cellular  19.0   \n",
       "\n",
       "  month  duration  number_contacts  pdays  number_contacts_before  \\\n",
       "0   jul     123.0              2.0   -1.0                     0.0   \n",
       "1   apr     137.0              1.0  272.0                     2.0   \n",
       "2   nov     148.0              2.0   -1.0                     0.0   \n",
       "3   apr     452.0              1.0   -1.0                     0.0   \n",
       "4   nov     394.0              2.0   -1.0                     0.0   \n",
       "\n",
       "  previous_outcome  \n",
       "0          unknown  \n",
       "1          failure  \n",
       "2          unknown  \n",
       "3          unknown  \n",
       "4          unknown  "
      ]
     },
     "execution_count": 252,
     "metadata": {},
     "output_type": "execute_result"
    }
   ],
   "source": [
    "df_train.head()"
   ]
  },
  {
   "cell_type": "markdown",
   "id": "931229d6-e87f-451e-b181-091de88d5dc4",
   "metadata": {},
   "source": [
    "## Exploratory data analysis"
   ]
  },
  {
   "cell_type": "code",
   "execution_count": 253,
   "id": "1d361208-205e-4694-9651-1a05a26f37a6",
   "metadata": {
    "tags": []
   },
   "outputs": [
    {
     "data": {
      "text/html": [
       "<div>\n",
       "<style scoped>\n",
       "    .dataframe tbody tr th:only-of-type {\n",
       "        vertical-align: middle;\n",
       "    }\n",
       "\n",
       "    .dataframe tbody tr th {\n",
       "        vertical-align: top;\n",
       "    }\n",
       "\n",
       "    .dataframe thead th {\n",
       "        text-align: right;\n",
       "    }\n",
       "</style>\n",
       "<table border=\"1\" class=\"dataframe\">\n",
       "  <thead>\n",
       "    <tr style=\"text-align: right;\">\n",
       "      <th></th>\n",
       "      <th>age</th>\n",
       "      <th>job</th>\n",
       "      <th>marital_status</th>\n",
       "      <th>education</th>\n",
       "      <th>credit_in_default</th>\n",
       "      <th>average_balance</th>\n",
       "      <th>has_housing_loan</th>\n",
       "      <th>has_personal_loan</th>\n",
       "      <th>contact_type</th>\n",
       "      <th>day</th>\n",
       "      <th>month</th>\n",
       "      <th>duration</th>\n",
       "      <th>number_contacts</th>\n",
       "      <th>pdays</th>\n",
       "      <th>number_contacts_before</th>\n",
       "      <th>previous_outcome</th>\n",
       "      <th>target</th>\n",
       "    </tr>\n",
       "  </thead>\n",
       "  <tbody>\n",
       "    <tr>\n",
       "      <th>0</th>\n",
       "      <td>52.0</td>\n",
       "      <td>management</td>\n",
       "      <td>married</td>\n",
       "      <td>tertiary</td>\n",
       "      <td>no</td>\n",
       "      <td>0.0</td>\n",
       "      <td>no</td>\n",
       "      <td>no</td>\n",
       "      <td>cellular</td>\n",
       "      <td>22.0</td>\n",
       "      <td>aug</td>\n",
       "      <td>232.0</td>\n",
       "      <td>2.0</td>\n",
       "      <td>-1.0</td>\n",
       "      <td>0.0</td>\n",
       "      <td>unknown</td>\n",
       "      <td>0</td>\n",
       "    </tr>\n",
       "    <tr>\n",
       "      <th>1</th>\n",
       "      <td>50.0</td>\n",
       "      <td>admin.</td>\n",
       "      <td>single</td>\n",
       "      <td>secondary</td>\n",
       "      <td>no</td>\n",
       "      <td>330.0</td>\n",
       "      <td>yes</td>\n",
       "      <td>no</td>\n",
       "      <td>unknown</td>\n",
       "      <td>28.0</td>\n",
       "      <td>may</td>\n",
       "      <td>24.0</td>\n",
       "      <td>1.0</td>\n",
       "      <td>-1.0</td>\n",
       "      <td>0.0</td>\n",
       "      <td>unknown</td>\n",
       "      <td>0</td>\n",
       "    </tr>\n",
       "    <tr>\n",
       "      <th>2</th>\n",
       "      <td>45.0</td>\n",
       "      <td>blue-collar</td>\n",
       "      <td>married</td>\n",
       "      <td>primary</td>\n",
       "      <td>no</td>\n",
       "      <td>300.0</td>\n",
       "      <td>yes</td>\n",
       "      <td>no</td>\n",
       "      <td>cellular</td>\n",
       "      <td>29.0</td>\n",
       "      <td>jan</td>\n",
       "      <td>203.0</td>\n",
       "      <td>1.0</td>\n",
       "      <td>261.0</td>\n",
       "      <td>3.0</td>\n",
       "      <td>failure</td>\n",
       "      <td>0</td>\n",
       "    </tr>\n",
       "    <tr>\n",
       "      <th>3</th>\n",
       "      <td>38.0</td>\n",
       "      <td>technician</td>\n",
       "      <td>married</td>\n",
       "      <td>secondary</td>\n",
       "      <td>no</td>\n",
       "      <td>27.0</td>\n",
       "      <td>yes</td>\n",
       "      <td>no</td>\n",
       "      <td>unknown</td>\n",
       "      <td>3.0</td>\n",
       "      <td>jun</td>\n",
       "      <td>404.0</td>\n",
       "      <td>4.0</td>\n",
       "      <td>-1.0</td>\n",
       "      <td>0.0</td>\n",
       "      <td>unknown</td>\n",
       "      <td>0</td>\n",
       "    </tr>\n",
       "    <tr>\n",
       "      <th>4</th>\n",
       "      <td>31.0</td>\n",
       "      <td>services</td>\n",
       "      <td>single</td>\n",
       "      <td>secondary</td>\n",
       "      <td>no</td>\n",
       "      <td>887.0</td>\n",
       "      <td>no</td>\n",
       "      <td>no</td>\n",
       "      <td>cellular</td>\n",
       "      <td>30.0</td>\n",
       "      <td>jan</td>\n",
       "      <td>427.0</td>\n",
       "      <td>1.0</td>\n",
       "      <td>-1.0</td>\n",
       "      <td>0.0</td>\n",
       "      <td>unknown</td>\n",
       "      <td>0</td>\n",
       "    </tr>\n",
       "    <tr>\n",
       "      <th>...</th>\n",
       "      <td>...</td>\n",
       "      <td>...</td>\n",
       "      <td>...</td>\n",
       "      <td>...</td>\n",
       "      <td>...</td>\n",
       "      <td>...</td>\n",
       "      <td>...</td>\n",
       "      <td>...</td>\n",
       "      <td>...</td>\n",
       "      <td>...</td>\n",
       "      <td>...</td>\n",
       "      <td>...</td>\n",
       "      <td>...</td>\n",
       "      <td>...</td>\n",
       "      <td>...</td>\n",
       "      <td>...</td>\n",
       "      <td>...</td>\n",
       "    </tr>\n",
       "    <tr>\n",
       "      <th>36163</th>\n",
       "      <td>50.0</td>\n",
       "      <td>technician</td>\n",
       "      <td>married</td>\n",
       "      <td>tertiary</td>\n",
       "      <td>no</td>\n",
       "      <td>1830.0</td>\n",
       "      <td>no</td>\n",
       "      <td>no</td>\n",
       "      <td>cellular</td>\n",
       "      <td>14.0</td>\n",
       "      <td>may</td>\n",
       "      <td>318.0</td>\n",
       "      <td>3.0</td>\n",
       "      <td>-1.0</td>\n",
       "      <td>0.0</td>\n",
       "      <td>unknown</td>\n",
       "      <td>0</td>\n",
       "    </tr>\n",
       "    <tr>\n",
       "      <th>36164</th>\n",
       "      <td>34.0</td>\n",
       "      <td>management</td>\n",
       "      <td>divorced</td>\n",
       "      <td>tertiary</td>\n",
       "      <td>no</td>\n",
       "      <td>528.0</td>\n",
       "      <td>yes</td>\n",
       "      <td>no</td>\n",
       "      <td>cellular</td>\n",
       "      <td>17.0</td>\n",
       "      <td>apr</td>\n",
       "      <td>233.0</td>\n",
       "      <td>2.0</td>\n",
       "      <td>-1.0</td>\n",
       "      <td>0.0</td>\n",
       "      <td>unknown</td>\n",
       "      <td>0</td>\n",
       "    </tr>\n",
       "    <tr>\n",
       "      <th>36165</th>\n",
       "      <td>48.0</td>\n",
       "      <td>management</td>\n",
       "      <td>married</td>\n",
       "      <td>tertiary</td>\n",
       "      <td>no</td>\n",
       "      <td>4191.0</td>\n",
       "      <td>no</td>\n",
       "      <td>no</td>\n",
       "      <td>unknown</td>\n",
       "      <td>21.0</td>\n",
       "      <td>may</td>\n",
       "      <td>363.0</td>\n",
       "      <td>6.0</td>\n",
       "      <td>-1.0</td>\n",
       "      <td>0.0</td>\n",
       "      <td>unknown</td>\n",
       "      <td>0</td>\n",
       "    </tr>\n",
       "    <tr>\n",
       "      <th>36166</th>\n",
       "      <td>45.0</td>\n",
       "      <td>admin.</td>\n",
       "      <td>married</td>\n",
       "      <td>unknown</td>\n",
       "      <td>no</td>\n",
       "      <td>1783.0</td>\n",
       "      <td>no</td>\n",
       "      <td>no</td>\n",
       "      <td>unknown</td>\n",
       "      <td>20.0</td>\n",
       "      <td>jun</td>\n",
       "      <td>11.0</td>\n",
       "      <td>11.0</td>\n",
       "      <td>-1.0</td>\n",
       "      <td>0.0</td>\n",
       "      <td>unknown</td>\n",
       "      <td>0</td>\n",
       "    </tr>\n",
       "    <tr>\n",
       "      <th>36167</th>\n",
       "      <td>45.0</td>\n",
       "      <td>blue-collar</td>\n",
       "      <td>married</td>\n",
       "      <td>unknown</td>\n",
       "      <td>no</td>\n",
       "      <td>349.0</td>\n",
       "      <td>yes</td>\n",
       "      <td>no</td>\n",
       "      <td>cellular</td>\n",
       "      <td>17.0</td>\n",
       "      <td>apr</td>\n",
       "      <td>179.0</td>\n",
       "      <td>2.0</td>\n",
       "      <td>336.0</td>\n",
       "      <td>2.0</td>\n",
       "      <td>other</td>\n",
       "      <td>0</td>\n",
       "    </tr>\n",
       "  </tbody>\n",
       "</table>\n",
       "<p>36168 rows × 17 columns</p>\n",
       "</div>"
      ],
      "text/plain": [
       "        age          job marital_status  education credit_in_default  \\\n",
       "0      52.0   management        married   tertiary                no   \n",
       "1      50.0       admin.         single  secondary                no   \n",
       "2      45.0  blue-collar        married    primary                no   \n",
       "3      38.0   technician        married  secondary                no   \n",
       "4      31.0     services         single  secondary                no   \n",
       "...     ...          ...            ...        ...               ...   \n",
       "36163  50.0   technician        married   tertiary                no   \n",
       "36164  34.0   management       divorced   tertiary                no   \n",
       "36165  48.0   management        married   tertiary                no   \n",
       "36166  45.0       admin.        married    unknown                no   \n",
       "36167  45.0  blue-collar        married    unknown                no   \n",
       "\n",
       "       average_balance has_housing_loan has_personal_loan contact_type   day  \\\n",
       "0                  0.0               no                no     cellular  22.0   \n",
       "1                330.0              yes                no      unknown  28.0   \n",
       "2                300.0              yes                no     cellular  29.0   \n",
       "3                 27.0              yes                no      unknown   3.0   \n",
       "4                887.0               no                no     cellular  30.0   \n",
       "...                ...              ...               ...          ...   ...   \n",
       "36163           1830.0               no                no     cellular  14.0   \n",
       "36164            528.0              yes                no     cellular  17.0   \n",
       "36165           4191.0               no                no      unknown  21.0   \n",
       "36166           1783.0               no                no      unknown  20.0   \n",
       "36167            349.0              yes                no     cellular  17.0   \n",
       "\n",
       "      month  duration  number_contacts  pdays  number_contacts_before  \\\n",
       "0       aug     232.0              2.0   -1.0                     0.0   \n",
       "1       may      24.0              1.0   -1.0                     0.0   \n",
       "2       jan     203.0              1.0  261.0                     3.0   \n",
       "3       jun     404.0              4.0   -1.0                     0.0   \n",
       "4       jan     427.0              1.0   -1.0                     0.0   \n",
       "...     ...       ...              ...    ...                     ...   \n",
       "36163   may     318.0              3.0   -1.0                     0.0   \n",
       "36164   apr     233.0              2.0   -1.0                     0.0   \n",
       "36165   may     363.0              6.0   -1.0                     0.0   \n",
       "36166   jun      11.0             11.0   -1.0                     0.0   \n",
       "36167   apr     179.0              2.0  336.0                     2.0   \n",
       "\n",
       "      previous_outcome  target  \n",
       "0              unknown       0  \n",
       "1              unknown       0  \n",
       "2              failure       0  \n",
       "3              unknown       0  \n",
       "4              unknown       0  \n",
       "...                ...     ...  \n",
       "36163          unknown       0  \n",
       "36164          unknown       0  \n",
       "36165          unknown       0  \n",
       "36166          unknown       0  \n",
       "36167            other       0  \n",
       "\n",
       "[36168 rows x 17 columns]"
      ]
     },
     "execution_count": 253,
     "metadata": {},
     "output_type": "execute_result"
    }
   ],
   "source": [
    "df_full_train = df_full_train.reset_index(drop=True)\n",
    "df_full_train"
   ]
  },
  {
   "cell_type": "code",
   "execution_count": 254,
   "id": "e8189af8-1062-4e4d-93c3-dd25b6abf3a5",
   "metadata": {
    "tags": []
   },
   "outputs": [
    {
     "data": {
      "text/plain": [
       "age                       0\n",
       "job                       0\n",
       "marital_status            0\n",
       "education                 0\n",
       "credit_in_default         0\n",
       "average_balance           0\n",
       "has_housing_loan          0\n",
       "has_personal_loan         0\n",
       "contact_type              0\n",
       "day                       0\n",
       "month                     0\n",
       "duration                  0\n",
       "number_contacts           0\n",
       "pdays                     0\n",
       "number_contacts_before    0\n",
       "previous_outcome          0\n",
       "target                    0\n",
       "dtype: int64"
      ]
     },
     "execution_count": 254,
     "metadata": {},
     "output_type": "execute_result"
    }
   ],
   "source": [
    "df_full_train.isnull().sum()"
   ]
  },
  {
   "cell_type": "code",
   "execution_count": 255,
   "id": "352f3989-274c-41a3-8e90-4bf147fab797",
   "metadata": {
    "tags": []
   },
   "outputs": [
    {
     "data": {
      "text/plain": [
       "0    0.882797\n",
       "1    0.117203\n",
       "Name: target, dtype: float64"
      ]
     },
     "execution_count": 255,
     "metadata": {},
     "output_type": "execute_result"
    }
   ],
   "source": [
    "df_full_train['target'].value_counts(normalize=True)"
   ]
  },
  {
   "cell_type": "code",
   "execution_count": 256,
   "id": "d191cb4c-9cbc-463b-b714-4bf4273f5f12",
   "metadata": {
    "tags": []
   },
   "outputs": [
    {
     "data": {
      "text/plain": [
       "0.11720305242203052"
      ]
     },
     "execution_count": 256,
     "metadata": {},
     "output_type": "execute_result"
    }
   ],
   "source": [
    "global_target = df_full_train['target'].mean()\n",
    "global_target"
   ]
  },
  {
   "cell_type": "code",
   "execution_count": 257,
   "id": "bbf1ba9b-4e41-4c81-b485-8e4750b506aa",
   "metadata": {
    "tags": []
   },
   "outputs": [
    {
     "data": {
      "text/plain": [
       "age                       float64\n",
       "job                        object\n",
       "marital_status             object\n",
       "education                  object\n",
       "credit_in_default          object\n",
       "average_balance           float64\n",
       "has_housing_loan           object\n",
       "has_personal_loan          object\n",
       "contact_type               object\n",
       "day                       float64\n",
       "month                      object\n",
       "duration                  float64\n",
       "number_contacts           float64\n",
       "pdays                     float64\n",
       "number_contacts_before    float64\n",
       "previous_outcome           object\n",
       "target                      int32\n",
       "dtype: object"
      ]
     },
     "execution_count": 257,
     "metadata": {},
     "output_type": "execute_result"
    }
   ],
   "source": [
    "df_full_train.dtypes"
   ]
  },
  {
   "cell_type": "code",
   "execution_count": 258,
   "id": "316936f8-77d0-4684-9561-1e39e98328e6",
   "metadata": {
    "tags": []
   },
   "outputs": [],
   "source": [
    "numerical = ['age', 'average_balance', 'day', 'duration', 'number_contacts', 'pdays', 'number_contacts_before']"
   ]
  },
  {
   "cell_type": "code",
   "execution_count": 259,
   "id": "1058468e-09dc-4eba-8e14-404730d8f74e",
   "metadata": {
    "tags": []
   },
   "outputs": [],
   "source": [
    "categorical = ['job', 'marital_status', 'education', 'credit_in_default', 'has_housing_loan', 'has_personal_loan', 'contact_type', 'month', 'previous_outcome']"
   ]
  },
  {
   "cell_type": "code",
   "execution_count": 260,
   "id": "bb97da41-dabc-4e2f-90af-3e9e9c7ac98c",
   "metadata": {
    "tags": []
   },
   "outputs": [
    {
     "name": "stdout",
     "output_type": "stream",
     "text": [
      "Description of age\n"
     ]
    },
    {
     "data": {
      "text/plain": [
       "count    36168.000000\n",
       "mean        40.933256\n",
       "std         10.612074\n",
       "min         18.000000\n",
       "25%         33.000000\n",
       "50%         39.000000\n",
       "75%         48.000000\n",
       "max         95.000000\n",
       "Name: age, dtype: float64"
      ]
     },
     "metadata": {},
     "output_type": "display_data"
    },
    {
     "name": "stdout",
     "output_type": "stream",
     "text": [
      "#################\n",
      "Description of average_balance\n"
     ]
    },
    {
     "data": {
      "text/plain": [
       "count     36168.000000\n",
       "mean       1367.341462\n",
       "std        3091.272985\n",
       "min       -6847.000000\n",
       "25%          73.000000\n",
       "50%         450.000000\n",
       "75%        1425.000000\n",
       "max      102127.000000\n",
       "Name: average_balance, dtype: float64"
      ]
     },
     "metadata": {},
     "output_type": "display_data"
    },
    {
     "name": "stdout",
     "output_type": "stream",
     "text": [
      "#################\n",
      "Description of day\n"
     ]
    },
    {
     "data": {
      "text/plain": [
       "count    36168.000000\n",
       "mean        15.801205\n",
       "std          8.320342\n",
       "min          1.000000\n",
       "25%          8.000000\n",
       "50%         16.000000\n",
       "75%         21.000000\n",
       "max         31.000000\n",
       "Name: day, dtype: float64"
      ]
     },
     "metadata": {},
     "output_type": "display_data"
    },
    {
     "name": "stdout",
     "output_type": "stream",
     "text": [
      "#################\n",
      "Description of duration\n"
     ]
    },
    {
     "data": {
      "text/plain": [
       "count    36168.000000\n",
       "mean       258.105480\n",
       "std        257.877693\n",
       "min          0.000000\n",
       "25%        103.000000\n",
       "50%        180.000000\n",
       "75%        318.000000\n",
       "max       4918.000000\n",
       "Name: duration, dtype: float64"
      ]
     },
     "metadata": {},
     "output_type": "display_data"
    },
    {
     "name": "stdout",
     "output_type": "stream",
     "text": [
      "#################\n",
      "Description of number_contacts\n"
     ]
    },
    {
     "data": {
      "text/plain": [
       "count    36168.000000\n",
       "mean         2.776239\n",
       "std          3.136934\n",
       "min          1.000000\n",
       "25%          1.000000\n",
       "50%          2.000000\n",
       "75%          3.000000\n",
       "max         63.000000\n",
       "Name: number_contacts, dtype: float64"
      ]
     },
     "metadata": {},
     "output_type": "display_data"
    },
    {
     "name": "stdout",
     "output_type": "stream",
     "text": [
      "#################\n",
      "Description of pdays\n"
     ]
    },
    {
     "data": {
      "text/plain": [
       "count    36168.000000\n",
       "mean        39.980148\n",
       "std         99.943625\n",
       "min         -1.000000\n",
       "25%         -1.000000\n",
       "50%         -1.000000\n",
       "75%         -1.000000\n",
       "max        871.000000\n",
       "Name: pdays, dtype: float64"
      ]
     },
     "metadata": {},
     "output_type": "display_data"
    },
    {
     "name": "stdout",
     "output_type": "stream",
     "text": [
      "#################\n",
      "Description of number_contacts_before\n"
     ]
    },
    {
     "data": {
      "text/plain": [
       "count    36168.000000\n",
       "mean         0.579988\n",
       "std          2.391510\n",
       "min          0.000000\n",
       "25%          0.000000\n",
       "50%          0.000000\n",
       "75%          0.000000\n",
       "max        275.000000\n",
       "Name: number_contacts_before, dtype: float64"
      ]
     },
     "metadata": {},
     "output_type": "display_data"
    },
    {
     "name": "stdout",
     "output_type": "stream",
     "text": [
      "#################\n"
     ]
    }
   ],
   "source": [
    "for c in numerical:\n",
    "    print('Description of', c)\n",
    "    display(df_full_train[c].describe())\n",
    "    print('#################')"
   ]
  },
  {
   "cell_type": "code",
   "execution_count": 261,
   "id": "c92e18e5-b23b-448d-b5f6-4b43368b5e2c",
   "metadata": {
    "tags": []
   },
   "outputs": [
    {
     "data": {
      "text/plain": [
       "job                  12\n",
       "marital_status        3\n",
       "education             4\n",
       "credit_in_default     2\n",
       "has_housing_loan      2\n",
       "has_personal_loan     2\n",
       "contact_type          3\n",
       "month                12\n",
       "previous_outcome      4\n",
       "dtype: int64"
      ]
     },
     "execution_count": 261,
     "metadata": {},
     "output_type": "execute_result"
    }
   ],
   "source": [
    "df_full_train[categorical].nunique()"
   ]
  },
  {
   "cell_type": "markdown",
   "id": "163e44f4-73b8-48af-8f04-f6d9c1fa0ee3",
   "metadata": {},
   "source": [
    "## Feature importance analysis"
   ]
  },
  {
   "cell_type": "code",
   "execution_count": 262,
   "id": "b85b85fd-25da-4e72-b2f5-9f9de5e5ce0e",
   "metadata": {
    "tags": []
   },
   "outputs": [
    {
     "data": {
      "text/html": [
       "<div>\n",
       "<style scoped>\n",
       "    .dataframe tbody tr th:only-of-type {\n",
       "        vertical-align: middle;\n",
       "    }\n",
       "\n",
       "    .dataframe tbody tr th {\n",
       "        vertical-align: top;\n",
       "    }\n",
       "\n",
       "    .dataframe thead th {\n",
       "        text-align: right;\n",
       "    }\n",
       "</style>\n",
       "<table border=\"1\" class=\"dataframe\">\n",
       "  <thead>\n",
       "    <tr style=\"text-align: right;\">\n",
       "      <th></th>\n",
       "      <th>mean</th>\n",
       "      <th>count</th>\n",
       "      <th>diff</th>\n",
       "      <th>risk</th>\n",
       "    </tr>\n",
       "    <tr>\n",
       "      <th>job</th>\n",
       "      <th></th>\n",
       "      <th></th>\n",
       "      <th></th>\n",
       "      <th></th>\n",
       "    </tr>\n",
       "  </thead>\n",
       "  <tbody>\n",
       "    <tr>\n",
       "      <th>admin.</th>\n",
       "      <td>0.122395</td>\n",
       "      <td>4175</td>\n",
       "      <td>0.005192</td>\n",
       "      <td>1.044301</td>\n",
       "    </tr>\n",
       "    <tr>\n",
       "      <th>blue-collar</th>\n",
       "      <td>0.073414</td>\n",
       "      <td>7805</td>\n",
       "      <td>-0.043789</td>\n",
       "      <td>0.626387</td>\n",
       "    </tr>\n",
       "    <tr>\n",
       "      <th>entrepreneur</th>\n",
       "      <td>0.082569</td>\n",
       "      <td>1199</td>\n",
       "      <td>-0.034634</td>\n",
       "      <td>0.704494</td>\n",
       "    </tr>\n",
       "    <tr>\n",
       "      <th>housemaid</th>\n",
       "      <td>0.090631</td>\n",
       "      <td>982</td>\n",
       "      <td>-0.026572</td>\n",
       "      <td>0.773285</td>\n",
       "    </tr>\n",
       "    <tr>\n",
       "      <th>management</th>\n",
       "      <td>0.138675</td>\n",
       "      <td>7550</td>\n",
       "      <td>0.021472</td>\n",
       "      <td>1.183207</td>\n",
       "    </tr>\n",
       "    <tr>\n",
       "      <th>retired</th>\n",
       "      <td>0.231323</td>\n",
       "      <td>1807</td>\n",
       "      <td>0.114120</td>\n",
       "      <td>1.973691</td>\n",
       "    </tr>\n",
       "    <tr>\n",
       "      <th>self-employed</th>\n",
       "      <td>0.112631</td>\n",
       "      <td>1243</td>\n",
       "      <td>-0.004572</td>\n",
       "      <td>0.960988</td>\n",
       "    </tr>\n",
       "    <tr>\n",
       "      <th>services</th>\n",
       "      <td>0.090122</td>\n",
       "      <td>3351</td>\n",
       "      <td>-0.027081</td>\n",
       "      <td>0.768942</td>\n",
       "    </tr>\n",
       "    <tr>\n",
       "      <th>student</th>\n",
       "      <td>0.291611</td>\n",
       "      <td>751</td>\n",
       "      <td>0.174408</td>\n",
       "      <td>2.488085</td>\n",
       "    </tr>\n",
       "    <tr>\n",
       "      <th>technician</th>\n",
       "      <td>0.108653</td>\n",
       "      <td>6056</td>\n",
       "      <td>-0.008550</td>\n",
       "      <td>0.927046</td>\n",
       "    </tr>\n",
       "    <tr>\n",
       "      <th>unemployed</th>\n",
       "      <td>0.152642</td>\n",
       "      <td>1022</td>\n",
       "      <td>0.035439</td>\n",
       "      <td>1.302371</td>\n",
       "    </tr>\n",
       "    <tr>\n",
       "      <th>unknown</th>\n",
       "      <td>0.118943</td>\n",
       "      <td>227</td>\n",
       "      <td>0.001740</td>\n",
       "      <td>1.014843</td>\n",
       "    </tr>\n",
       "  </tbody>\n",
       "</table>\n",
       "</div>"
      ],
      "text/plain": [
       "                   mean  count      diff      risk\n",
       "job                                               \n",
       "admin.         0.122395   4175  0.005192  1.044301\n",
       "blue-collar    0.073414   7805 -0.043789  0.626387\n",
       "entrepreneur   0.082569   1199 -0.034634  0.704494\n",
       "housemaid      0.090631    982 -0.026572  0.773285\n",
       "management     0.138675   7550  0.021472  1.183207\n",
       "retired        0.231323   1807  0.114120  1.973691\n",
       "self-employed  0.112631   1243 -0.004572  0.960988\n",
       "services       0.090122   3351 -0.027081  0.768942\n",
       "student        0.291611    751  0.174408  2.488085\n",
       "technician     0.108653   6056 -0.008550  0.927046\n",
       "unemployed     0.152642   1022  0.035439  1.302371\n",
       "unknown        0.118943    227  0.001740  1.014843"
      ]
     },
     "metadata": {},
     "output_type": "display_data"
    },
    {
     "data": {
      "text/html": [
       "<div>\n",
       "<style scoped>\n",
       "    .dataframe tbody tr th:only-of-type {\n",
       "        vertical-align: middle;\n",
       "    }\n",
       "\n",
       "    .dataframe tbody tr th {\n",
       "        vertical-align: top;\n",
       "    }\n",
       "\n",
       "    .dataframe thead th {\n",
       "        text-align: right;\n",
       "    }\n",
       "</style>\n",
       "<table border=\"1\" class=\"dataframe\">\n",
       "  <thead>\n",
       "    <tr style=\"text-align: right;\">\n",
       "      <th></th>\n",
       "      <th>mean</th>\n",
       "      <th>count</th>\n",
       "      <th>diff</th>\n",
       "      <th>risk</th>\n",
       "    </tr>\n",
       "    <tr>\n",
       "      <th>marital_status</th>\n",
       "      <th></th>\n",
       "      <th></th>\n",
       "      <th></th>\n",
       "      <th></th>\n",
       "    </tr>\n",
       "  </thead>\n",
       "  <tbody>\n",
       "    <tr>\n",
       "      <th>divorced</th>\n",
       "      <td>0.119242</td>\n",
       "      <td>4168</td>\n",
       "      <td>0.002039</td>\n",
       "      <td>1.017395</td>\n",
       "    </tr>\n",
       "    <tr>\n",
       "      <th>married</th>\n",
       "      <td>0.101889</td>\n",
       "      <td>21710</td>\n",
       "      <td>-0.015315</td>\n",
       "      <td>0.869333</td>\n",
       "    </tr>\n",
       "    <tr>\n",
       "      <th>single</th>\n",
       "      <td>0.148688</td>\n",
       "      <td>10290</td>\n",
       "      <td>0.031485</td>\n",
       "      <td>1.268636</td>\n",
       "    </tr>\n",
       "  </tbody>\n",
       "</table>\n",
       "</div>"
      ],
      "text/plain": [
       "                    mean  count      diff      risk\n",
       "marital_status                                     \n",
       "divorced        0.119242   4168  0.002039  1.017395\n",
       "married         0.101889  21710 -0.015315  0.869333\n",
       "single          0.148688  10290  0.031485  1.268636"
      ]
     },
     "metadata": {},
     "output_type": "display_data"
    },
    {
     "data": {
      "text/html": [
       "<div>\n",
       "<style scoped>\n",
       "    .dataframe tbody tr th:only-of-type {\n",
       "        vertical-align: middle;\n",
       "    }\n",
       "\n",
       "    .dataframe tbody tr th {\n",
       "        vertical-align: top;\n",
       "    }\n",
       "\n",
       "    .dataframe thead th {\n",
       "        text-align: right;\n",
       "    }\n",
       "</style>\n",
       "<table border=\"1\" class=\"dataframe\">\n",
       "  <thead>\n",
       "    <tr style=\"text-align: right;\">\n",
       "      <th></th>\n",
       "      <th>mean</th>\n",
       "      <th>count</th>\n",
       "      <th>diff</th>\n",
       "      <th>risk</th>\n",
       "    </tr>\n",
       "    <tr>\n",
       "      <th>education</th>\n",
       "      <th></th>\n",
       "      <th></th>\n",
       "      <th></th>\n",
       "      <th></th>\n",
       "    </tr>\n",
       "  </thead>\n",
       "  <tbody>\n",
       "    <tr>\n",
       "      <th>primary</th>\n",
       "      <td>0.087201</td>\n",
       "      <td>5516</td>\n",
       "      <td>-0.030002</td>\n",
       "      <td>0.744015</td>\n",
       "    </tr>\n",
       "    <tr>\n",
       "      <th>secondary</th>\n",
       "      <td>0.105671</td>\n",
       "      <td>18567</td>\n",
       "      <td>-0.011532</td>\n",
       "      <td>0.901609</td>\n",
       "    </tr>\n",
       "    <tr>\n",
       "      <th>tertiary</th>\n",
       "      <td>0.150042</td>\n",
       "      <td>10617</td>\n",
       "      <td>0.032839</td>\n",
       "      <td>1.280192</td>\n",
       "    </tr>\n",
       "    <tr>\n",
       "      <th>unknown</th>\n",
       "      <td>0.138283</td>\n",
       "      <td>1468</td>\n",
       "      <td>0.021080</td>\n",
       "      <td>1.179862</td>\n",
       "    </tr>\n",
       "  </tbody>\n",
       "</table>\n",
       "</div>"
      ],
      "text/plain": [
       "               mean  count      diff      risk\n",
       "education                                     \n",
       "primary    0.087201   5516 -0.030002  0.744015\n",
       "secondary  0.105671  18567 -0.011532  0.901609\n",
       "tertiary   0.150042  10617  0.032839  1.280192\n",
       "unknown    0.138283   1468  0.021080  1.179862"
      ]
     },
     "metadata": {},
     "output_type": "display_data"
    },
    {
     "data": {
      "text/html": [
       "<div>\n",
       "<style scoped>\n",
       "    .dataframe tbody tr th:only-of-type {\n",
       "        vertical-align: middle;\n",
       "    }\n",
       "\n",
       "    .dataframe tbody tr th {\n",
       "        vertical-align: top;\n",
       "    }\n",
       "\n",
       "    .dataframe thead th {\n",
       "        text-align: right;\n",
       "    }\n",
       "</style>\n",
       "<table border=\"1\" class=\"dataframe\">\n",
       "  <thead>\n",
       "    <tr style=\"text-align: right;\">\n",
       "      <th></th>\n",
       "      <th>mean</th>\n",
       "      <th>count</th>\n",
       "      <th>diff</th>\n",
       "      <th>risk</th>\n",
       "    </tr>\n",
       "    <tr>\n",
       "      <th>credit_in_default</th>\n",
       "      <th></th>\n",
       "      <th></th>\n",
       "      <th></th>\n",
       "      <th></th>\n",
       "    </tr>\n",
       "  </thead>\n",
       "  <tbody>\n",
       "    <tr>\n",
       "      <th>no</th>\n",
       "      <td>0.118331</td>\n",
       "      <td>35519</td>\n",
       "      <td>0.001128</td>\n",
       "      <td>1.009624</td>\n",
       "    </tr>\n",
       "    <tr>\n",
       "      <th>yes</th>\n",
       "      <td>0.055470</td>\n",
       "      <td>649</td>\n",
       "      <td>-0.061733</td>\n",
       "      <td>0.473281</td>\n",
       "    </tr>\n",
       "  </tbody>\n",
       "</table>\n",
       "</div>"
      ],
      "text/plain": [
       "                       mean  count      diff      risk\n",
       "credit_in_default                                     \n",
       "no                 0.118331  35519  0.001128  1.009624\n",
       "yes                0.055470    649 -0.061733  0.473281"
      ]
     },
     "metadata": {},
     "output_type": "display_data"
    },
    {
     "data": {
      "text/html": [
       "<div>\n",
       "<style scoped>\n",
       "    .dataframe tbody tr th:only-of-type {\n",
       "        vertical-align: middle;\n",
       "    }\n",
       "\n",
       "    .dataframe tbody tr th {\n",
       "        vertical-align: top;\n",
       "    }\n",
       "\n",
       "    .dataframe thead th {\n",
       "        text-align: right;\n",
       "    }\n",
       "</style>\n",
       "<table border=\"1\" class=\"dataframe\">\n",
       "  <thead>\n",
       "    <tr style=\"text-align: right;\">\n",
       "      <th></th>\n",
       "      <th>mean</th>\n",
       "      <th>count</th>\n",
       "      <th>diff</th>\n",
       "      <th>risk</th>\n",
       "    </tr>\n",
       "    <tr>\n",
       "      <th>has_housing_loan</th>\n",
       "      <th></th>\n",
       "      <th></th>\n",
       "      <th></th>\n",
       "      <th></th>\n",
       "    </tr>\n",
       "  </thead>\n",
       "  <tbody>\n",
       "    <tr>\n",
       "      <th>no</th>\n",
       "      <td>0.167124</td>\n",
       "      <td>16030</td>\n",
       "      <td>0.049921</td>\n",
       "      <td>1.425937</td>\n",
       "    </tr>\n",
       "    <tr>\n",
       "      <th>yes</th>\n",
       "      <td>0.077465</td>\n",
       "      <td>20138</td>\n",
       "      <td>-0.039738</td>\n",
       "      <td>0.660951</td>\n",
       "    </tr>\n",
       "  </tbody>\n",
       "</table>\n",
       "</div>"
      ],
      "text/plain": [
       "                      mean  count      diff      risk\n",
       "has_housing_loan                                     \n",
       "no                0.167124  16030  0.049921  1.425937\n",
       "yes               0.077465  20138 -0.039738  0.660951"
      ]
     },
     "metadata": {},
     "output_type": "display_data"
    },
    {
     "data": {
      "text/html": [
       "<div>\n",
       "<style scoped>\n",
       "    .dataframe tbody tr th:only-of-type {\n",
       "        vertical-align: middle;\n",
       "    }\n",
       "\n",
       "    .dataframe tbody tr th {\n",
       "        vertical-align: top;\n",
       "    }\n",
       "\n",
       "    .dataframe thead th {\n",
       "        text-align: right;\n",
       "    }\n",
       "</style>\n",
       "<table border=\"1\" class=\"dataframe\">\n",
       "  <thead>\n",
       "    <tr style=\"text-align: right;\">\n",
       "      <th></th>\n",
       "      <th>mean</th>\n",
       "      <th>count</th>\n",
       "      <th>diff</th>\n",
       "      <th>risk</th>\n",
       "    </tr>\n",
       "    <tr>\n",
       "      <th>has_personal_loan</th>\n",
       "      <th></th>\n",
       "      <th></th>\n",
       "      <th></th>\n",
       "      <th></th>\n",
       "    </tr>\n",
       "  </thead>\n",
       "  <tbody>\n",
       "    <tr>\n",
       "      <th>no</th>\n",
       "      <td>0.126759</td>\n",
       "      <td>30412</td>\n",
       "      <td>0.009556</td>\n",
       "      <td>1.081535</td>\n",
       "    </tr>\n",
       "    <tr>\n",
       "      <th>yes</th>\n",
       "      <td>0.066713</td>\n",
       "      <td>5756</td>\n",
       "      <td>-0.050490</td>\n",
       "      <td>0.569209</td>\n",
       "    </tr>\n",
       "  </tbody>\n",
       "</table>\n",
       "</div>"
      ],
      "text/plain": [
       "                       mean  count      diff      risk\n",
       "has_personal_loan                                     \n",
       "no                 0.126759  30412  0.009556  1.081535\n",
       "yes                0.066713   5756 -0.050490  0.569209"
      ]
     },
     "metadata": {},
     "output_type": "display_data"
    },
    {
     "data": {
      "text/html": [
       "<div>\n",
       "<style scoped>\n",
       "    .dataframe tbody tr th:only-of-type {\n",
       "        vertical-align: middle;\n",
       "    }\n",
       "\n",
       "    .dataframe tbody tr th {\n",
       "        vertical-align: top;\n",
       "    }\n",
       "\n",
       "    .dataframe thead th {\n",
       "        text-align: right;\n",
       "    }\n",
       "</style>\n",
       "<table border=\"1\" class=\"dataframe\">\n",
       "  <thead>\n",
       "    <tr style=\"text-align: right;\">\n",
       "      <th></th>\n",
       "      <th>mean</th>\n",
       "      <th>count</th>\n",
       "      <th>diff</th>\n",
       "      <th>risk</th>\n",
       "    </tr>\n",
       "    <tr>\n",
       "      <th>contact_type</th>\n",
       "      <th></th>\n",
       "      <th></th>\n",
       "      <th></th>\n",
       "      <th></th>\n",
       "    </tr>\n",
       "  </thead>\n",
       "  <tbody>\n",
       "    <tr>\n",
       "      <th>cellular</th>\n",
       "      <td>0.148521</td>\n",
       "      <td>23458</td>\n",
       "      <td>0.031318</td>\n",
       "      <td>1.267209</td>\n",
       "    </tr>\n",
       "    <tr>\n",
       "      <th>telephone</th>\n",
       "      <td>0.135708</td>\n",
       "      <td>2358</td>\n",
       "      <td>0.018505</td>\n",
       "      <td>1.157890</td>\n",
       "    </tr>\n",
       "    <tr>\n",
       "      <th>unknown</th>\n",
       "      <td>0.042021</td>\n",
       "      <td>10352</td>\n",
       "      <td>-0.075182</td>\n",
       "      <td>0.358530</td>\n",
       "    </tr>\n",
       "  </tbody>\n",
       "</table>\n",
       "</div>"
      ],
      "text/plain": [
       "                  mean  count      diff      risk\n",
       "contact_type                                     \n",
       "cellular      0.148521  23458  0.031318  1.267209\n",
       "telephone     0.135708   2358  0.018505  1.157890\n",
       "unknown       0.042021  10352 -0.075182  0.358530"
      ]
     },
     "metadata": {},
     "output_type": "display_data"
    },
    {
     "data": {
      "text/html": [
       "<div>\n",
       "<style scoped>\n",
       "    .dataframe tbody tr th:only-of-type {\n",
       "        vertical-align: middle;\n",
       "    }\n",
       "\n",
       "    .dataframe tbody tr th {\n",
       "        vertical-align: top;\n",
       "    }\n",
       "\n",
       "    .dataframe thead th {\n",
       "        text-align: right;\n",
       "    }\n",
       "</style>\n",
       "<table border=\"1\" class=\"dataframe\">\n",
       "  <thead>\n",
       "    <tr style=\"text-align: right;\">\n",
       "      <th></th>\n",
       "      <th>mean</th>\n",
       "      <th>count</th>\n",
       "      <th>diff</th>\n",
       "      <th>risk</th>\n",
       "    </tr>\n",
       "    <tr>\n",
       "      <th>month</th>\n",
       "      <th></th>\n",
       "      <th></th>\n",
       "      <th></th>\n",
       "      <th></th>\n",
       "    </tr>\n",
       "  </thead>\n",
       "  <tbody>\n",
       "    <tr>\n",
       "      <th>apr</th>\n",
       "      <td>0.193674</td>\n",
       "      <td>2308</td>\n",
       "      <td>0.076471</td>\n",
       "      <td>1.652467</td>\n",
       "    </tr>\n",
       "    <tr>\n",
       "      <th>aug</th>\n",
       "      <td>0.109776</td>\n",
       "      <td>4992</td>\n",
       "      <td>-0.007427</td>\n",
       "      <td>0.936628</td>\n",
       "    </tr>\n",
       "    <tr>\n",
       "      <th>dec</th>\n",
       "      <td>0.469880</td>\n",
       "      <td>166</td>\n",
       "      <td>0.352676</td>\n",
       "      <td>4.009106</td>\n",
       "    </tr>\n",
       "    <tr>\n",
       "      <th>feb</th>\n",
       "      <td>0.162048</td>\n",
       "      <td>2129</td>\n",
       "      <td>0.044845</td>\n",
       "      <td>1.382625</td>\n",
       "    </tr>\n",
       "    <tr>\n",
       "      <th>jan</th>\n",
       "      <td>0.095707</td>\n",
       "      <td>1118</td>\n",
       "      <td>-0.021496</td>\n",
       "      <td>0.816588</td>\n",
       "    </tr>\n",
       "    <tr>\n",
       "      <th>jul</th>\n",
       "      <td>0.090240</td>\n",
       "      <td>5574</td>\n",
       "      <td>-0.026963</td>\n",
       "      <td>0.769949</td>\n",
       "    </tr>\n",
       "    <tr>\n",
       "      <th>jun</th>\n",
       "      <td>0.106089</td>\n",
       "      <td>4270</td>\n",
       "      <td>-0.011114</td>\n",
       "      <td>0.905173</td>\n",
       "    </tr>\n",
       "    <tr>\n",
       "      <th>mar</th>\n",
       "      <td>0.528150</td>\n",
       "      <td>373</td>\n",
       "      <td>0.410947</td>\n",
       "      <td>4.506283</td>\n",
       "    </tr>\n",
       "    <tr>\n",
       "      <th>may</th>\n",
       "      <td>0.067389</td>\n",
       "      <td>10981</td>\n",
       "      <td>-0.049814</td>\n",
       "      <td>0.574978</td>\n",
       "    </tr>\n",
       "    <tr>\n",
       "      <th>nov</th>\n",
       "      <td>0.103578</td>\n",
       "      <td>3186</td>\n",
       "      <td>-0.013625</td>\n",
       "      <td>0.883750</td>\n",
       "    </tr>\n",
       "    <tr>\n",
       "      <th>oct</th>\n",
       "      <td>0.454090</td>\n",
       "      <td>599</td>\n",
       "      <td>0.336887</td>\n",
       "      <td>3.874388</td>\n",
       "    </tr>\n",
       "    <tr>\n",
       "      <th>sep</th>\n",
       "      <td>0.463983</td>\n",
       "      <td>472</td>\n",
       "      <td>0.346780</td>\n",
       "      <td>3.958797</td>\n",
       "    </tr>\n",
       "  </tbody>\n",
       "</table>\n",
       "</div>"
      ],
      "text/plain": [
       "           mean  count      diff      risk\n",
       "month                                     \n",
       "apr    0.193674   2308  0.076471  1.652467\n",
       "aug    0.109776   4992 -0.007427  0.936628\n",
       "dec    0.469880    166  0.352676  4.009106\n",
       "feb    0.162048   2129  0.044845  1.382625\n",
       "jan    0.095707   1118 -0.021496  0.816588\n",
       "jul    0.090240   5574 -0.026963  0.769949\n",
       "jun    0.106089   4270 -0.011114  0.905173\n",
       "mar    0.528150    373  0.410947  4.506283\n",
       "may    0.067389  10981 -0.049814  0.574978\n",
       "nov    0.103578   3186 -0.013625  0.883750\n",
       "oct    0.454090    599  0.336887  3.874388\n",
       "sep    0.463983    472  0.346780  3.958797"
      ]
     },
     "metadata": {},
     "output_type": "display_data"
    },
    {
     "data": {
      "text/html": [
       "<div>\n",
       "<style scoped>\n",
       "    .dataframe tbody tr th:only-of-type {\n",
       "        vertical-align: middle;\n",
       "    }\n",
       "\n",
       "    .dataframe tbody tr th {\n",
       "        vertical-align: top;\n",
       "    }\n",
       "\n",
       "    .dataframe thead th {\n",
       "        text-align: right;\n",
       "    }\n",
       "</style>\n",
       "<table border=\"1\" class=\"dataframe\">\n",
       "  <thead>\n",
       "    <tr style=\"text-align: right;\">\n",
       "      <th></th>\n",
       "      <th>mean</th>\n",
       "      <th>count</th>\n",
       "      <th>diff</th>\n",
       "      <th>risk</th>\n",
       "    </tr>\n",
       "    <tr>\n",
       "      <th>previous_outcome</th>\n",
       "      <th></th>\n",
       "      <th></th>\n",
       "      <th></th>\n",
       "      <th></th>\n",
       "    </tr>\n",
       "  </thead>\n",
       "  <tbody>\n",
       "    <tr>\n",
       "      <th>failure</th>\n",
       "      <td>0.126894</td>\n",
       "      <td>3893</td>\n",
       "      <td>0.009691</td>\n",
       "      <td>1.082689</td>\n",
       "    </tr>\n",
       "    <tr>\n",
       "      <th>other</th>\n",
       "      <td>0.162618</td>\n",
       "      <td>1482</td>\n",
       "      <td>0.045415</td>\n",
       "      <td>1.387490</td>\n",
       "    </tr>\n",
       "    <tr>\n",
       "      <th>success</th>\n",
       "      <td>0.646617</td>\n",
       "      <td>1197</td>\n",
       "      <td>0.529413</td>\n",
       "      <td>5.517062</td>\n",
       "    </tr>\n",
       "    <tr>\n",
       "      <th>unknown</th>\n",
       "      <td>0.092242</td>\n",
       "      <td>29596</td>\n",
       "      <td>-0.024961</td>\n",
       "      <td>0.787029</td>\n",
       "    </tr>\n",
       "  </tbody>\n",
       "</table>\n",
       "</div>"
      ],
      "text/plain": [
       "                      mean  count      diff      risk\n",
       "previous_outcome                                     \n",
       "failure           0.126894   3893  0.009691  1.082689\n",
       "other             0.162618   1482  0.045415  1.387490\n",
       "success           0.646617   1197  0.529413  5.517062\n",
       "unknown           0.092242  29596 -0.024961  0.787029"
      ]
     },
     "metadata": {},
     "output_type": "display_data"
    }
   ],
   "source": [
    "for c in categorical:\n",
    "    df_group = df_full_train.groupby(c).target.agg(['mean', 'count'])\n",
    "    df_group['diff'] = df_group['mean'] - global_target\n",
    "    df_group['risk'] = df_group['mean'] / global_target\n",
    "    display(df_group)"
   ]
  },
  {
   "cell_type": "code",
   "execution_count": 263,
   "id": "1219aba0-ef94-4054-99fb-a241f22d1b26",
   "metadata": {
    "tags": []
   },
   "outputs": [],
   "source": [
    "def mutual_info_target_score(series):\n",
    "    return mutual_info_score(series, df_full_train.target)"
   ]
  },
  {
   "cell_type": "code",
   "execution_count": 264,
   "id": "3e7eddbf-0dfe-4e0e-86b8-a93137750b37",
   "metadata": {
    "tags": []
   },
   "outputs": [
    {
     "data": {
      "text/plain": [
       "previous_outcome     0.028893\n",
       "month                0.024718\n",
       "contact_type         0.013041\n",
       "has_housing_loan     0.009551\n",
       "job                  0.008437\n",
       "has_personal_loan    0.002641\n",
       "education            0.002564\n",
       "marital_status       0.001980\n",
       "credit_in_default    0.000407\n",
       "dtype: float64"
      ]
     },
     "execution_count": 264,
     "metadata": {},
     "output_type": "execute_result"
    }
   ],
   "source": [
    "mi = df_full_train[categorical].apply(mutual_info_target_score)\n",
    "mi.sort_values(ascending=False)"
   ]
  },
  {
   "cell_type": "code",
   "execution_count": 265,
   "id": "44abdd22-7175-4b6f-adc4-112ad8a7e167",
   "metadata": {
    "tags": []
   },
   "outputs": [
    {
     "data": {
      "text/plain": [
       "age                       0.024931\n",
       "average_balance           0.055252\n",
       "day                      -0.030624\n",
       "duration                  0.398321\n",
       "number_contacts          -0.072134\n",
       "pdays                     0.101045\n",
       "number_contacts_before    0.087392\n",
       "dtype: float64"
      ]
     },
     "execution_count": 265,
     "metadata": {},
     "output_type": "execute_result"
    }
   ],
   "source": [
    "df_full_train[numerical].corrwith(df_full_train.target)"
   ]
  },
  {
   "cell_type": "markdown",
   "id": "400afa66-9d35-4191-ae90-6f8755a867c9",
   "metadata": {
    "tags": []
   },
   "source": [
    "## Model training"
   ]
  },
  {
   "cell_type": "code",
   "execution_count": 266,
   "id": "91bbeb1d-1961-4fbd-b83e-83b9ce71f5b7",
   "metadata": {
    "tags": []
   },
   "outputs": [],
   "source": [
    "dv = DictVectorizer(sparse=False)"
   ]
  },
  {
   "cell_type": "code",
   "execution_count": 267,
   "id": "506a6ac4-62e7-4070-9a88-4022de3ed78d",
   "metadata": {},
   "outputs": [],
   "source": [
    "train_dict = df_train.to_dict(orient='records')\n",
    "X_train = dv.fit_transform(train_dict)"
   ]
  },
  {
   "cell_type": "code",
   "execution_count": 268,
   "id": "b51cca69-92b6-4d9b-9b5d-1aea20d50618",
   "metadata": {
    "tags": []
   },
   "outputs": [],
   "source": [
    "val_dict = df_val.to_dict(orient='records')\n",
    "X_val = dv.fit_transform(val_dict)"
   ]
  },
  {
   "cell_type": "markdown",
   "id": "a817586c-5749-43ad-8a5c-d21057086835",
   "metadata": {
    "tags": []
   },
   "source": [
    "### Logistic regression"
   ]
  },
  {
   "cell_type": "code",
   "execution_count": 271,
   "id": "f9232de1-2d36-43ed-9c10-f778d405182e",
   "metadata": {
    "tags": []
   },
   "outputs": [
    {
     "name": "stdout",
     "output_type": "stream",
     "text": [
      "For c:  0.01\n",
      "accuracy:  0.8943817739438178\n",
      "roc_auc_score:  0.8958225566213036\n",
      "###########\n",
      "For c:  0.1\n",
      "accuracy:  0.8981420039814201\n",
      "roc_auc_score:  0.9001686670078527\n",
      "###########\n",
      "For c:  0.5\n",
      "accuracy:  0.8971466489714665\n",
      "roc_auc_score:  0.9000605559499373\n",
      "###########\n",
      "For c:  10\n",
      "accuracy:  0.8974784339747843\n",
      "roc_auc_score:  0.8994709322268631\n",
      "###########\n"
     ]
    }
   ],
   "source": [
    "for c in [0.01, 0.1, 0.5, 10]:\n",
    "    model = LogisticRegression(max_iter=5000, C=c)\n",
    "    model.fit(X_train, y_train)\n",
    "    y_pred = model.predict_proba(X_val)[:, 1]\n",
    "    decision = (y_pred >= 0.5)\n",
    "    print('For c: ', c)\n",
    "    print('accuracy: ', accuracy_score(y_val, decision))\n",
    "    print('roc_auc_score: ', roc_auc_score(y_val, y_pred))\n",
    "    print('###########')"
   ]
  },
  {
   "cell_type": "markdown",
   "id": "6c3373b9-ce83-4b8d-8ba2-1e9e6b31fd70",
   "metadata": {},
   "source": [
    "### Decision tree"
   ]
  },
  {
   "cell_type": "code",
   "execution_count": 272,
   "id": "27ad6536-a6b8-43a3-ba17-e07ee4c86e8b",
   "metadata": {},
   "outputs": [
    {
     "data": {
      "text/html": [
       "<style>#sk-container-id-2 {color: black;}#sk-container-id-2 pre{padding: 0;}#sk-container-id-2 div.sk-toggleable {background-color: white;}#sk-container-id-2 label.sk-toggleable__label {cursor: pointer;display: block;width: 100%;margin-bottom: 0;padding: 0.3em;box-sizing: border-box;text-align: center;}#sk-container-id-2 label.sk-toggleable__label-arrow:before {content: \"▸\";float: left;margin-right: 0.25em;color: #696969;}#sk-container-id-2 label.sk-toggleable__label-arrow:hover:before {color: black;}#sk-container-id-2 div.sk-estimator:hover label.sk-toggleable__label-arrow:before {color: black;}#sk-container-id-2 div.sk-toggleable__content {max-height: 0;max-width: 0;overflow: hidden;text-align: left;background-color: #f0f8ff;}#sk-container-id-2 div.sk-toggleable__content pre {margin: 0.2em;color: black;border-radius: 0.25em;background-color: #f0f8ff;}#sk-container-id-2 input.sk-toggleable__control:checked~div.sk-toggleable__content {max-height: 200px;max-width: 100%;overflow: auto;}#sk-container-id-2 input.sk-toggleable__control:checked~label.sk-toggleable__label-arrow:before {content: \"▾\";}#sk-container-id-2 div.sk-estimator input.sk-toggleable__control:checked~label.sk-toggleable__label {background-color: #d4ebff;}#sk-container-id-2 div.sk-label input.sk-toggleable__control:checked~label.sk-toggleable__label {background-color: #d4ebff;}#sk-container-id-2 input.sk-hidden--visually {border: 0;clip: rect(1px 1px 1px 1px);clip: rect(1px, 1px, 1px, 1px);height: 1px;margin: -1px;overflow: hidden;padding: 0;position: absolute;width: 1px;}#sk-container-id-2 div.sk-estimator {font-family: monospace;background-color: #f0f8ff;border: 1px dotted black;border-radius: 0.25em;box-sizing: border-box;margin-bottom: 0.5em;}#sk-container-id-2 div.sk-estimator:hover {background-color: #d4ebff;}#sk-container-id-2 div.sk-parallel-item::after {content: \"\";width: 100%;border-bottom: 1px solid gray;flex-grow: 1;}#sk-container-id-2 div.sk-label:hover label.sk-toggleable__label {background-color: #d4ebff;}#sk-container-id-2 div.sk-serial::before {content: \"\";position: absolute;border-left: 1px solid gray;box-sizing: border-box;top: 0;bottom: 0;left: 50%;z-index: 0;}#sk-container-id-2 div.sk-serial {display: flex;flex-direction: column;align-items: center;background-color: white;padding-right: 0.2em;padding-left: 0.2em;position: relative;}#sk-container-id-2 div.sk-item {position: relative;z-index: 1;}#sk-container-id-2 div.sk-parallel {display: flex;align-items: stretch;justify-content: center;background-color: white;position: relative;}#sk-container-id-2 div.sk-item::before, #sk-container-id-2 div.sk-parallel-item::before {content: \"\";position: absolute;border-left: 1px solid gray;box-sizing: border-box;top: 0;bottom: 0;left: 50%;z-index: -1;}#sk-container-id-2 div.sk-parallel-item {display: flex;flex-direction: column;z-index: 1;position: relative;background-color: white;}#sk-container-id-2 div.sk-parallel-item:first-child::after {align-self: flex-end;width: 50%;}#sk-container-id-2 div.sk-parallel-item:last-child::after {align-self: flex-start;width: 50%;}#sk-container-id-2 div.sk-parallel-item:only-child::after {width: 0;}#sk-container-id-2 div.sk-dashed-wrapped {border: 1px dashed gray;margin: 0 0.4em 0.5em 0.4em;box-sizing: border-box;padding-bottom: 0.4em;background-color: white;}#sk-container-id-2 div.sk-label label {font-family: monospace;font-weight: bold;display: inline-block;line-height: 1.2em;}#sk-container-id-2 div.sk-label-container {text-align: center;}#sk-container-id-2 div.sk-container {/* jupyter's `normalize.less` sets `[hidden] { display: none; }` but bootstrap.min.css set `[hidden] { display: none !important; }` so we also need the `!important` here to be able to override the default hidden behavior on the sphinx rendered scikit-learn.org. See: https://github.com/scikit-learn/scikit-learn/issues/21755 */display: inline-block !important;position: relative;}#sk-container-id-2 div.sk-text-repr-fallback {display: none;}</style><div id=\"sk-container-id-2\" class=\"sk-top-container\"><div class=\"sk-text-repr-fallback\"><pre>DecisionTreeClassifier()</pre><b>In a Jupyter environment, please rerun this cell to show the HTML representation or trust the notebook. <br />On GitHub, the HTML representation is unable to render, please try loading this page with nbviewer.org.</b></div><div class=\"sk-container\" hidden><div class=\"sk-item\"><div class=\"sk-estimator sk-toggleable\"><input class=\"sk-toggleable__control sk-hidden--visually\" id=\"sk-estimator-id-2\" type=\"checkbox\" checked><label for=\"sk-estimator-id-2\" class=\"sk-toggleable__label sk-toggleable__label-arrow\">DecisionTreeClassifier</label><div class=\"sk-toggleable__content\"><pre>DecisionTreeClassifier()</pre></div></div></div></div></div>"
      ],
      "text/plain": [
       "DecisionTreeClassifier()"
      ]
     },
     "execution_count": 272,
     "metadata": {},
     "output_type": "execute_result"
    }
   ],
   "source": [
    "dt = DecisionTreeClassifier()\n",
    "dt.fit(X_train, y_train)"
   ]
  },
  {
   "cell_type": "code",
   "execution_count": 273,
   "id": "1114d69d-ceed-453f-9ced-ba05e1317212",
   "metadata": {
    "tags": []
   },
   "outputs": [
    {
     "name": "stdout",
     "output_type": "stream",
     "text": [
      "For depth:  1\n",
      "accuracy:  0.8785666887856669\n",
      "roc_auc_score:  0.6734546194949345\n",
      "###########\n",
      "For depth:  2\n",
      "accuracy:  0.8887414288874143\n",
      "roc_auc_score:  0.7435655003971334\n",
      "###########\n",
      "For depth:  3\n",
      "accuracy:  0.8958195089581951\n",
      "roc_auc_score:  0.7577667992890121\n",
      "###########\n",
      "For depth:  4\n",
      "accuracy:  0.8952665339526653\n",
      "roc_auc_score:  0.7695824895397106\n",
      "###########\n",
      "For depth:  5\n",
      "accuracy:  0.8939393939393939\n",
      "roc_auc_score:  0.8298344559457185\n",
      "###########\n",
      "For depth:  6\n",
      "accuracy:  0.896040698960407\n",
      "roc_auc_score:  0.8386467682704248\n",
      "###########\n",
      "For depth:  10\n",
      "accuracy:  0.8918380889183809\n",
      "roc_auc_score:  0.8188050070897008\n",
      "###########\n",
      "For depth:  15\n",
      "accuracy:  0.887193098871931\n",
      "roc_auc_score:  0.7254046196783679\n",
      "###########\n",
      "For depth:  20\n",
      "accuracy:  0.8788984737889848\n",
      "roc_auc_score:  0.6524503491654698\n",
      "###########\n",
      "For depth:  None\n",
      "accuracy:  0.8754700287547003\n",
      "roc_auc_score:  0.7105438204040304\n",
      "###########\n"
     ]
    }
   ],
   "source": [
    "depths = [1, 2, 3, 4, 5, 6, 10, 15, 20, None]\n",
    "\n",
    "for depth in depths: \n",
    "    dt = DecisionTreeClassifier(max_depth=depth)\n",
    "    dt.fit(X_train, y_train)\n",
    "    \n",
    "    y_pred = dt.predict_proba(X_val)[:, 1]\n",
    "    auc = roc_auc_score(y_val, y_pred)\n",
    "    \n",
    "    decision = (y_pred >= 0.5)\n",
    "    accur = accuracy_score(y_val, decision)\n",
    "    \n",
    "    print('For depth: ', depth)\n",
    "    print('accuracy: ', accur)\n",
    "    print('roc_auc_score: ', auc)\n",
    "    print('###########')"
   ]
  },
  {
   "cell_type": "code",
   "execution_count": 274,
   "id": "6b90b464-d04f-4578-9bd9-6547838cb848",
   "metadata": {
    "tags": []
   },
   "outputs": [],
   "source": [
    "scores = []\n",
    "\n",
    "for depth in [5, 10, 15]:\n",
    "    for s in [1, 5, 10, 15, 20, 50, 100, 200]:\n",
    "        dt = DecisionTreeClassifier(max_depth=depth, min_samples_leaf=s)\n",
    "        dt.fit(X_train, y_train)\n",
    "\n",
    "        y_pred = dt.predict_proba(X_val)[:, 1]\n",
    "        auc = roc_auc_score(y_val, y_pred)\n",
    "        \n",
    "        scores.append((depth, s, auc))"
   ]
  },
  {
   "cell_type": "code",
   "execution_count": 275,
   "id": "7de3e921-1baf-4bbd-9930-c4423f3a0239",
   "metadata": {
    "tags": []
   },
   "outputs": [],
   "source": [
    "columns = ['max_depth', 'min_samples_leaf', 'auc']\n",
    "df_scores = pd.DataFrame(scores, columns=columns)"
   ]
  },
  {
   "cell_type": "code",
   "execution_count": 276,
   "id": "d22fb228-eed7-489e-9a03-c93c8e376472",
   "metadata": {
    "tags": []
   },
   "outputs": [
    {
     "data": {
      "text/html": [
       "<div>\n",
       "<style scoped>\n",
       "    .dataframe tbody tr th:only-of-type {\n",
       "        vertical-align: middle;\n",
       "    }\n",
       "\n",
       "    .dataframe tbody tr th {\n",
       "        vertical-align: top;\n",
       "    }\n",
       "\n",
       "    .dataframe thead tr th {\n",
       "        text-align: left;\n",
       "    }\n",
       "\n",
       "    .dataframe thead tr:last-of-type th {\n",
       "        text-align: right;\n",
       "    }\n",
       "</style>\n",
       "<table border=\"1\" class=\"dataframe\">\n",
       "  <thead>\n",
       "    <tr>\n",
       "      <th></th>\n",
       "      <th colspan=\"3\" halign=\"left\">auc</th>\n",
       "    </tr>\n",
       "    <tr>\n",
       "      <th>max_depth</th>\n",
       "      <th>5</th>\n",
       "      <th>10</th>\n",
       "      <th>15</th>\n",
       "    </tr>\n",
       "    <tr>\n",
       "      <th>min_samples_leaf</th>\n",
       "      <th></th>\n",
       "      <th></th>\n",
       "      <th></th>\n",
       "    </tr>\n",
       "  </thead>\n",
       "  <tbody>\n",
       "    <tr>\n",
       "      <th>1</th>\n",
       "      <td>0.830</td>\n",
       "      <td>0.812</td>\n",
       "      <td>0.725</td>\n",
       "    </tr>\n",
       "    <tr>\n",
       "      <th>5</th>\n",
       "      <td>0.830</td>\n",
       "      <td>0.848</td>\n",
       "      <td>0.811</td>\n",
       "    </tr>\n",
       "    <tr>\n",
       "      <th>10</th>\n",
       "      <td>0.832</td>\n",
       "      <td>0.868</td>\n",
       "      <td>0.866</td>\n",
       "    </tr>\n",
       "    <tr>\n",
       "      <th>15</th>\n",
       "      <td>0.833</td>\n",
       "      <td>0.873</td>\n",
       "      <td>0.878</td>\n",
       "    </tr>\n",
       "    <tr>\n",
       "      <th>20</th>\n",
       "      <td>0.833</td>\n",
       "      <td>0.880</td>\n",
       "      <td>0.888</td>\n",
       "    </tr>\n",
       "    <tr>\n",
       "      <th>50</th>\n",
       "      <td>0.832</td>\n",
       "      <td>0.885</td>\n",
       "      <td>0.894</td>\n",
       "    </tr>\n",
       "    <tr>\n",
       "      <th>100</th>\n",
       "      <td>0.833</td>\n",
       "      <td>0.885</td>\n",
       "      <td>0.897</td>\n",
       "    </tr>\n",
       "    <tr>\n",
       "      <th>200</th>\n",
       "      <td>0.831</td>\n",
       "      <td>0.880</td>\n",
       "      <td>0.887</td>\n",
       "    </tr>\n",
       "  </tbody>\n",
       "</table>\n",
       "</div>"
      ],
      "text/plain": [
       "                    auc              \n",
       "max_depth            5      10     15\n",
       "min_samples_leaf                     \n",
       "1                 0.830  0.812  0.725\n",
       "5                 0.830  0.848  0.811\n",
       "10                0.832  0.868  0.866\n",
       "15                0.833  0.873  0.878\n",
       "20                0.833  0.880  0.888\n",
       "50                0.832  0.885  0.894\n",
       "100               0.833  0.885  0.897\n",
       "200               0.831  0.880  0.887"
      ]
     },
     "execution_count": 276,
     "metadata": {},
     "output_type": "execute_result"
    }
   ],
   "source": [
    "df_scores_pivot = df_scores.pivot(index='min_samples_leaf', columns=['max_depth'], values=['auc'])\n",
    "df_scores_pivot.round(3)"
   ]
  },
  {
   "cell_type": "markdown",
   "id": "bf099312-f5bf-4148-9683-735db163c070",
   "metadata": {},
   "source": [
    "### Random forest"
   ]
  },
  {
   "cell_type": "code",
   "execution_count": 277,
   "id": "5f63c7eb-915f-4acd-9e22-2c3c266c1a6b",
   "metadata": {
    "tags": []
   },
   "outputs": [],
   "source": [
    "scores = []\n",
    "\n",
    "for n in range(10, 301, 10):\n",
    "    rf = RandomForestClassifier(n_estimators=n, n_jobs=-1)\n",
    "    rf.fit(X_train, y_train)\n",
    "\n",
    "    y_pred = rf.predict_proba(X_val)[:, 1]\n",
    "    auc = roc_auc_score(y_val, y_pred)\n",
    "    \n",
    "    scores.append((n, auc))"
   ]
  },
  {
   "cell_type": "code",
   "execution_count": 278,
   "id": "75d6281d-9ae1-44ff-a0ea-a8aa883430b8",
   "metadata": {
    "tags": []
   },
   "outputs": [],
   "source": [
    "df_scores = pd.DataFrame(scores, columns=['n_estimators', 'auc'])"
   ]
  },
  {
   "cell_type": "code",
   "execution_count": 279,
   "id": "3ac59ab0-1dd7-416b-8331-6d5e91c6b85b",
   "metadata": {
    "tags": []
   },
   "outputs": [
    {
     "data": {
      "text/plain": [
       "[<matplotlib.lines.Line2D at 0x17ccb3b37d0>]"
      ]
     },
     "execution_count": 279,
     "metadata": {},
     "output_type": "execute_result"
    },
    {
     "data": {
      "image/png": "[encoded data removed]",
      "text/plain": [
       "<Figure size 640x480 with 1 Axes>"
      ]
     },
     "metadata": {},
     "output_type": "display_data"
    }
   ],
   "source": [
    "plt.plot(df_scores.n_estimators, df_scores.auc)"
   ]
  },
  {
   "cell_type": "code",
   "execution_count": 280,
   "id": "3cee37a8-36f5-4ae2-bf0b-4ad10897f78b",
   "metadata": {
    "tags": []
   },
   "outputs": [],
   "source": [
    "scores = []\n",
    "\n",
    "for d in [5, 10, 15]:\n",
    "    for n in range(150, 301, 10):\n",
    "        rf = RandomForestClassifier(n_estimators=n, max_depth=d, n_jobs=-1)\n",
    "        rf.fit(X_train, y_train)\n",
    "\n",
    "        y_pred = rf.predict_proba(X_val)[:, 1]\n",
    "        auc = roc_auc_score(y_val, y_pred)\n",
    "\n",
    "        scores.append((d, n, auc))"
   ]
  },
  {
   "cell_type": "code",
   "execution_count": 281,
   "id": "7b1ce8b3-1dbe-471c-876f-2be2b50659ed",
   "metadata": {
    "tags": []
   },
   "outputs": [],
   "source": [
    "columns = ['max_depth', 'n_estimators', 'auc']\n",
    "df_scores = pd.DataFrame(scores, columns=columns)"
   ]
  },
  {
   "cell_type": "code",
   "execution_count": 282,
   "id": "c297b759-10b2-4351-b368-9d95c3a2817b",
   "metadata": {
    "tags": []
   },
   "outputs": [
    {
     "data": {
      "text/plain": [
       "<matplotlib.legend.Legend at 0x17ccb3d8910>"
      ]
     },
     "execution_count": 282,
     "metadata": {},
     "output_type": "execute_result"
    },
    {
     "data": {
      "image/png": "[encoded data removed]",
      "text/plain": [
       "<Figure size 640x480 with 1 Axes>"
      ]
     },
     "metadata": {},
     "output_type": "display_data"
    }
   ],
   "source": [
    "for d in [5, 10, 15]:\n",
    "    df_subset = df_scores[df_scores.max_depth == d]\n",
    "    \n",
    "    plt.plot(df_subset.n_estimators, df_subset.auc,\n",
    "             label='max_depth=%d' % d)\n",
    "\n",
    "plt.legend()"
   ]
  },
  {
   "cell_type": "code",
   "execution_count": 283,
   "id": "ecb2486e-2f98-407e-8eee-fe57629beb0d",
   "metadata": {
    "tags": []
   },
   "outputs": [],
   "source": [
    "scores = []\n",
    "\n",
    "for s in [1, 3, 5, 10, 50, 100, 200]:\n",
    "    for n in range(250, 301, 10):\n",
    "        rf = RandomForestClassifier(n_estimators=n,\n",
    "                                    max_depth=15,\n",
    "                                    min_samples_leaf=s,\n",
    "                                    n_jobs=-1\n",
    "                                    )\n",
    "        rf.fit(X_train, y_train)\n",
    "\n",
    "        y_pred = rf.predict_proba(X_val)[:, 1]\n",
    "        auc = roc_auc_score(y_val, y_pred)\n",
    "\n",
    "        scores.append((s, n, auc))"
   ]
  },
  {
   "cell_type": "code",
   "execution_count": 284,
   "id": "35aac1c4-220d-4f1a-a043-7ba3b23eb1b6",
   "metadata": {
    "tags": []
   },
   "outputs": [],
   "source": [
    "columns = ['min_samples_leaf', 'n_estimators', 'auc']\n",
    "df_scores = pd.DataFrame(scores, columns=columns)"
   ]
  },
  {
   "cell_type": "code",
   "execution_count": 285,
   "id": "bdc5259c-5824-4b2c-8142-ae2e6b3eb7a6",
   "metadata": {
    "tags": []
   },
   "outputs": [
    {
     "data": {
      "text/plain": [
       "<matplotlib.legend.Legend at 0x17ccb3fd150>"
      ]
     },
     "execution_count": 285,
     "metadata": {},
     "output_type": "execute_result"
    },
    {
     "data": {
      "image/png": "[encoded data removed]",
      "text/plain": [
       "<Figure size 640x480 with 1 Axes>"
      ]
     },
     "metadata": {},
     "output_type": "display_data"
    }
   ],
   "source": [
    "colors = ['black', 'blue', 'orange', 'red', 'grey', 'green', 'brown']\n",
    "values = [1, 3, 5, 10, 50, 100, 200]\n",
    "\n",
    "for s, col in zip(values, colors):\n",
    "    df_subset = df_scores[df_scores.min_samples_leaf == s]\n",
    "    \n",
    "    plt.plot(df_subset.n_estimators, df_subset.auc,\n",
    "             color=col,\n",
    "             label='min_samples_leaf=%d' % s)\n",
    "\n",
    "plt.legend()"
   ]
  },
  {
   "cell_type": "code",
   "execution_count": 286,
   "id": "b47e119f-842f-432b-b431-958710d9e616",
   "metadata": {
    "tags": []
   },
   "outputs": [
    {
     "data": {
      "text/plain": [
       "0.9250949726409088"
      ]
     },
     "execution_count": 286,
     "metadata": {},
     "output_type": "execute_result"
    }
   ],
   "source": [
    "rf = RandomForestClassifier(n_estimators=150,\n",
    "                                    max_depth=15,\n",
    "                                    min_samples_leaf=1,\n",
    "                                    n_jobs=-1\n",
    "                                    )\n",
    "rf.fit(X_train, y_train)\n",
    "y_pred = rf.predict_proba(X_val)[:, 1]\n",
    "auc = roc_auc_score(y_val, y_pred)\n",
    "auc"
   ]
  },
  {
   "cell_type": "markdown",
   "id": "f964257f-2276-46b6-b1ee-21f354089d73",
   "metadata": {
    "tags": []
   },
   "source": [
    "### Gradient boosting and XGBoost"
   ]
  },
  {
   "cell_type": "code",
   "execution_count": 287,
   "id": "d97048c4-10fa-4c4c-b9c1-01994563ea1f",
   "metadata": {
    "tags": []
   },
   "outputs": [
    {
     "name": "stdout",
     "output_type": "stream",
     "text": [
      "Requirement already satisfied: xgboost in c:\\users\\user\\anaconda3\\lib\\site-packages (2.0.0)\n",
      "Requirement already satisfied: numpy in c:\\users\\user\\anaconda3\\lib\\site-packages (from xgboost) (1.24.3)\n",
      "Requirement already satisfied: scipy in c:\\users\\user\\anaconda3\\lib\\site-packages (from xgboost) (1.10.1)\n"
     ]
    }
   ],
   "source": [
    "!pip install xgboost"
   ]
  },
  {
   "cell_type": "code",
   "execution_count": 288,
   "id": "793f3397-1f19-4961-9229-8a7d16369bd2",
   "metadata": {
    "tags": []
   },
   "outputs": [],
   "source": [
    "import xgboost as xgb"
   ]
  },
  {
   "cell_type": "code",
   "execution_count": 290,
   "id": "cd1234ac-6320-449c-ba70-68ea6f135476",
   "metadata": {
    "tags": []
   },
   "outputs": [
    {
     "data": {
      "text/plain": [
       "array(['age', 'average_balance', 'contact_type=cellular',\n",
       "       'contact_type=telephone', 'contact_type=unknown',\n",
       "       'credit_in_default=no', 'credit_in_default=yes', 'day', 'duration',\n",
       "       'education=primary', 'education=secondary', 'education=tertiary',\n",
       "       'education=unknown', 'has_housing_loan=no', 'has_housing_loan=yes',\n",
       "       'has_personal_loan=no', 'has_personal_loan=yes', 'job=admin.',\n",
       "       'job=blue-collar', 'job=entrepreneur', 'job=housemaid',\n",
       "       'job=management', 'job=retired', 'job=self-employed',\n",
       "       'job=services', 'job=student', 'job=technician', 'job=unemployed',\n",
       "       'job=unknown', 'marital_status=divorced', 'marital_status=married',\n",
       "       'marital_status=single', 'month=apr', 'month=aug', 'month=dec',\n",
       "       'month=feb', 'month=jan', 'month=jul', 'month=jun', 'month=mar',\n",
       "       'month=may', 'month=nov', 'month=oct', 'month=sep',\n",
       "       'number_contacts', 'number_contacts_before', 'pdays',\n",
       "       'previous_outcome=failure', 'previous_outcome=other',\n",
       "       'previous_outcome=success', 'previous_outcome=unknown'],\n",
       "      dtype=object)"
      ]
     },
     "execution_count": 290,
     "metadata": {},
     "output_type": "execute_result"
    }
   ],
   "source": [
    "features = dv.get_feature_names_out()\n",
    "features"
   ]
  },
  {
   "cell_type": "code",
   "execution_count": 291,
   "id": "c184241a-a605-4633-9381-f869914482ed",
   "metadata": {
    "tags": []
   },
   "outputs": [],
   "source": [
    "dtrain = xgb.DMatrix(X_train, label=y_train, feature_names=list(features))\n",
    "dval = xgb.DMatrix(X_val, label=y_val, feature_names=list(features))"
   ]
  },
  {
   "cell_type": "code",
   "execution_count": 292,
   "id": "a39ac2e4-10f5-414b-8cfc-95b03a3cf8a8",
   "metadata": {
    "tags": []
   },
   "outputs": [],
   "source": [
    "watchlist = [(dtrain, 'train'), (dval, 'val')]"
   ]
  },
  {
   "cell_type": "code",
   "execution_count": 293,
   "id": "12d4e2aa-814b-4a0a-abd4-412b6ac4f48c",
   "metadata": {
    "tags": []
   },
   "outputs": [],
   "source": [
    "%%capture output\n",
    "\n",
    "xgb_params = {\n",
    "    'eta': 0.3, \n",
    "    'max_depth': 6,\n",
    "    'min_child_weight': 1,\n",
    "    \n",
    "    'objective': 'binary:logistic',\n",
    "    'eval_metric': 'auc',\n",
    "\n",
    "    'seed': 1,\n",
    "    'verbosity': 1,\n",
    "}\n",
    "\n",
    "model = xgb.train(xgb_params, dtrain, num_boost_round=200, verbose_eval=5, evals=watchlist)"
   ]
  },
  {
   "cell_type": "code",
   "execution_count": 294,
   "id": "7af9eb29-b516-432e-8d4b-63477556455c",
   "metadata": {
    "tags": []
   },
   "outputs": [],
   "source": [
    "s = output.stdout"
   ]
  },
  {
   "cell_type": "code",
   "execution_count": 295,
   "id": "1c1f74f2-84a6-4088-9081-7e4589244d8b",
   "metadata": {
    "tags": []
   },
   "outputs": [
    {
     "name": "stdout",
     "output_type": "stream",
     "text": [
      "[0]\ttrain-auc:0.87877\tval-auc:0.85513\n",
      "[5]\ttrain-auc:0.93261\tval-auc:0.90501\n",
      "[10]\ttrain-auc:0.94274\tval-auc:0.91424\n",
      "[15]\ttrain-auc:0.95190\tval-auc:0.92215\n",
      "[20]\ttrain-auc:0.95847\tval-auc:0.92570\n",
      "[25]\ttrain-auc:0.96269\tval-auc:0.92763\n",
      "[30]\ttrain-auc:0.96580\tval-auc:0.92897\n",
      "[35]\ttrain-auc:0.96738\tval-auc:0.92887\n",
      "[40]\ttrain-auc:0.96947\tval-auc:0.92897\n",
      "[45]\ttrain-auc:0.97209\tval-auc:0.92923\n",
      "[50]\ttrain-auc:0.97371\tval-auc:0.92891\n",
      "[55]\ttrain-auc:0.97544\tval-auc:0.92879\n",
      "[60]\ttrain-auc:0.97718\tval-auc:0.92889\n",
      "[65]\ttrain-auc:0.97897\tval-auc:0.92865\n",
      "[70]\ttrain-auc:0.98014\tval-auc:0.92815\n",
      "[75]\ttrain-auc:0.98179\tval-auc:0.92790\n",
      "[80]\ttrain-auc:0.98342\tval-auc:0.92795\n",
      "[85]\ttrain-auc:0.98522\tval-auc:0.92778\n",
      "[90]\ttrain-auc:0.98628\tval-auc:0.92734\n",
      "[95]\ttrain-auc:0.98757\tval-auc:0.92728\n",
      "[100]\ttrain-auc:0.98878\tval-auc:0.92702\n",
      "[105]\ttrain-auc:0.98938\tval-auc:0.92687\n",
      "[110]\ttrain-auc:0.99006\tval-auc:0.92661\n",
      "[115]\ttrain-auc:0.99055\tval-auc:0.92656\n",
      "[120]\ttrain-auc:0.99096\tval-auc:0.92662\n",
      "[125]\ttrain-auc:0.99153\tval-auc:0.92666\n",
      "[130]\ttrain-auc:0.99195\tval-auc:0.92650\n",
      "[135]\ttrain-auc:0.99271\tval-auc:0.92626\n",
      "[140]\ttrain-auc:0.99307\tval-auc:0.92595\n",
      "[145]\ttrain-auc:0.99342\tval-auc:0.92581\n",
      "[150]\ttrain-auc:0.99380\tval-auc:0.92556\n",
      "[155]\ttrain-auc:0.99409\tval-auc:0.92542\n",
      "[160]\ttrain-auc:0.99445\tval-auc:0.92520\n",
      "[165]\ttrain-auc:0.99501\tval-auc:0.92519\n",
      "[170]\ttrain-auc:0.99548\tval-auc:0.92500\n",
      "[175]\ttrain-auc:0.99580\tval-auc:0.92468\n",
      "[180]\ttrain-auc:0.99612\tval-auc:0.92473\n",
      "[185]\ttrain-auc:0.99633\tval-auc:0.92462\n",
      "[190]\ttrain-auc:0.99659\tval-auc:0.92449\n",
      "[195]\ttrain-auc:0.99682\tval-auc:0.92455\n",
      "[199]\ttrain-auc:0.99709\tval-auc:0.92459\n",
      "\n"
     ]
    }
   ],
   "source": [
    "print(s)"
   ]
  },
  {
   "cell_type": "code",
   "execution_count": 296,
   "id": "60a615da-f8df-4c43-93f6-0d620e47030c",
   "metadata": {
    "tags": []
   },
   "outputs": [],
   "source": [
    "def parse_xgb_output(output):\n",
    "    results = []\n",
    "\n",
    "    for line in output.stdout.strip().split('\\n'):\n",
    "        it_line, train_line, val_line = line.split('\\t')\n",
    "\n",
    "        it = int(it_line.strip('[]'))\n",
    "        train = float(train_line.split(':')[1])\n",
    "        val = float(val_line.split(':')[1])\n",
    "\n",
    "        results.append((it, train, val))\n",
    "    \n",
    "    columns = ['num_iter', 'train_auc', 'val_auc']\n",
    "    df_results = pd.DataFrame(results, columns=columns)\n",
    "    return df_results"
   ]
  },
  {
   "cell_type": "code",
   "execution_count": 297,
   "id": "2151a641-c6d6-4ae6-b923-d90b1dfe2ff0",
   "metadata": {
    "tags": []
   },
   "outputs": [],
   "source": [
    "df_score = parse_xgb_output(output)"
   ]
  },
  {
   "cell_type": "code",
   "execution_count": 298,
   "id": "87f505dc-6ea3-40d9-95ac-f2dc3a9006ed",
   "metadata": {
    "tags": []
   },
   "outputs": [
    {
     "data": {
      "text/plain": [
       "<matplotlib.legend.Legend at 0x17ccb50de90>"
      ]
     },
     "execution_count": 298,
     "metadata": {},
     "output_type": "execute_result"
    },
    {
     "data": {
      "image/png": "[encoded data removed]",
      "text/plain": [
       "<Figure size 640x480 with 1 Axes>"
      ]
     },
     "metadata": {},
     "output_type": "display_data"
    }
   ],
   "source": [
    "plt.plot(df_score.num_iter, df_score.train_auc, label='train')\n",
    "plt.plot(df_score.num_iter, df_score.val_auc, label='val')\n",
    "plt.legend()"
   ]
  },
  {
   "cell_type": "code",
   "execution_count": 299,
   "id": "0ee4903e-a1bf-476c-a7b2-d37fa77545fe",
   "metadata": {
    "tags": []
   },
   "outputs": [
    {
     "data": {
      "text/plain": [
       "<matplotlib.legend.Legend at 0x17cbe993f50>"
      ]
     },
     "execution_count": 299,
     "metadata": {},
     "output_type": "execute_result"
    },
    {
     "data": {
      "image/png": "[encoded data removed]",
      "text/plain": [
       "<Figure size 640x480 with 1 Axes>"
      ]
     },
     "metadata": {},
     "output_type": "display_data"
    }
   ],
   "source": [
    "plt.plot(df_score.num_iter, df_score.val_auc, label='val')\n",
    "plt.legend()"
   ]
  },
  {
   "cell_type": "code",
   "execution_count": 300,
   "id": "4f898bb8-df36-41b6-9c01-10ffea0a4498",
   "metadata": {
    "tags": []
   },
   "outputs": [],
   "source": [
    "scores = {}"
   ]
  },
  {
   "cell_type": "code",
   "execution_count": 301,
   "id": "2d7b8ab8-3194-4f76-b540-26f953628bb0",
   "metadata": {
    "tags": []
   },
   "outputs": [],
   "source": [
    "%%capture output\n",
    "\n",
    "xgb_params = {\n",
    "    'eta': 0.1, \n",
    "    'max_depth': 5,\n",
    "    'min_child_weight': 1,\n",
    "    \n",
    "    'objective': 'binary:logistic',\n",
    "    'eval_metric': 'auc',\n",
    "\n",
    "    'seed': 1,\n",
    "    'verbosity': 1,\n",
    "}\n",
    "\n",
    "model = xgb.train(xgb_params, dtrain, num_boost_round=200,\n",
    "                  verbose_eval=5,\n",
    "                  evals=watchlist)"
   ]
  },
  {
   "cell_type": "code",
   "execution_count": 302,
   "id": "3ed1800f-4def-44b0-8f83-3d6413915715",
   "metadata": {
    "tags": []
   },
   "outputs": [
    {
     "data": {
      "text/plain": [
       "'eta=0.1'"
      ]
     },
     "execution_count": 302,
     "metadata": {},
     "output_type": "execute_result"
    }
   ],
   "source": [
    "key = 'eta=%s' % (xgb_params['eta'])\n",
    "scores[key] = parse_xgb_output(output)\n",
    "key"
   ]
  },
  {
   "cell_type": "code",
   "execution_count": 303,
   "id": "0f9250be-ff37-407b-94e0-b61f8d009a3f",
   "metadata": {
    "tags": []
   },
   "outputs": [
    {
     "data": {
      "text/plain": [
       "dict_keys(['eta=0.1'])"
      ]
     },
     "execution_count": 303,
     "metadata": {},
     "output_type": "execute_result"
    }
   ],
   "source": [
    "scores.keys()"
   ]
  },
  {
   "cell_type": "markdown",
   "id": "8f9d6e7d-a989-40ce-bbf3-31db4a800d96",
   "metadata": {},
   "source": [
    "> **_NOTE:_** In order to see more than one line, you need to manually change 'eta' in xgb_params and run the code in the subsequent cells. By doing this you will add an additional key to your scores dictionary."
   ]
  },
  {
   "cell_type": "code",
   "execution_count": 304,
   "id": "11a0de9c-0cc2-4774-bf3a-147979e9633c",
   "metadata": {
    "tags": []
   },
   "outputs": [
    {
     "data": {
      "text/plain": [
       "<matplotlib.legend.Legend at 0x17cbdf03f50>"
      ]
     },
     "execution_count": 304,
     "metadata": {},
     "output_type": "execute_result"
    },
    {
     "data": {
      "image/png": "[encoded data removed]",
      "text/plain": [
       "<Figure size 640x480 with 1 Axes>"
      ]
     },
     "metadata": {},
     "output_type": "display_data"
    }
   ],
   "source": [
    "for eta, df_score in scores.items():\n",
    "    plt.plot(df_score.num_iter, df_score.val_auc, label=eta)\n",
    "\n",
    "plt.legend()"
   ]
  },
  {
   "cell_type": "code",
   "execution_count": 305,
   "id": "641892ba-d377-4564-82f8-8d6fce14cc4e",
   "metadata": {
    "tags": []
   },
   "outputs": [],
   "source": [
    "scores = {}"
   ]
  },
  {
   "cell_type": "code",
   "execution_count": 306,
   "id": "3cc2c3de-6c2e-43b3-a5b0-0f67577420e9",
   "metadata": {
    "tags": []
   },
   "outputs": [],
   "source": [
    "%%capture output\n",
    "\n",
    "xgb_params = {\n",
    "    'eta': 0.1, \n",
    "    'max_depth': 5,\n",
    "    'min_child_weight': 1,\n",
    "    \n",
    "    'objective': 'binary:logistic',\n",
    "    'eval_metric': 'auc',\n",
    "\n",
    "    'seed': 1,\n",
    "    'verbosity': 1,\n",
    "}\n",
    "\n",
    "model = xgb.train(xgb_params, dtrain, num_boost_round=200,\n",
    "                  verbose_eval=5,\n",
    "                  evals=watchlist)"
   ]
  },
  {
   "cell_type": "code",
   "execution_count": 307,
   "id": "d5245aa9-3092-4347-aae6-9ee8fea44c7b",
   "metadata": {
    "tags": []
   },
   "outputs": [
    {
     "data": {
      "text/plain": [
       "'max_depth=5'"
      ]
     },
     "execution_count": 307,
     "metadata": {},
     "output_type": "execute_result"
    }
   ],
   "source": [
    "key = 'max_depth=%s' % (xgb_params['max_depth'])\n",
    "scores[key] = parse_xgb_output(output)\n",
    "key"
   ]
  },
  {
   "cell_type": "code",
   "execution_count": 308,
   "id": "6f8c44ed-fae0-407c-b3b1-84118687eafa",
   "metadata": {
    "tags": []
   },
   "outputs": [
    {
     "data": {
      "text/plain": [
       "dict_keys(['max_depth=5'])"
      ]
     },
     "execution_count": 308,
     "metadata": {},
     "output_type": "execute_result"
    }
   ],
   "source": [
    "scores.keys()"
   ]
  },
  {
   "cell_type": "markdown",
   "id": "0ac506a4-c1cd-4800-bd01-86669b073e1f",
   "metadata": {},
   "source": [
    "> **_NOTE:_** In order to see more than one line, you need to manually change 'max_depth' in xgb_params and run the code in the subsequent cells. By doing this you will add an additional key to your scores dictionary."
   ]
  },
  {
   "cell_type": "code",
   "execution_count": 309,
   "id": "e71fd870-1c64-4ca7-aa7e-0d6054267a04",
   "metadata": {
    "tags": []
   },
   "outputs": [
    {
     "data": {
      "text/plain": [
       "<matplotlib.legend.Legend at 0x17cbde2bf50>"
      ]
     },
     "execution_count": 309,
     "metadata": {},
     "output_type": "execute_result"
    },
    {
     "data": {
      "image/png": "[encoded data removed]",
      "text/plain": [
       "<Figure size 640x480 with 1 Axes>"
      ]
     },
     "metadata": {},
     "output_type": "display_data"
    }
   ],
   "source": [
    "for max_depth, df_score in scores.items():\n",
    "    plt.plot(df_score.num_iter, df_score.val_auc, label=max_depth)\n",
    "\n",
    "plt.legend()"
   ]
  },
  {
   "cell_type": "code",
   "execution_count": 310,
   "id": "6fcf08a8-78d3-48ca-ba8a-516485dc4c87",
   "metadata": {
    "tags": []
   },
   "outputs": [],
   "source": [
    "scores = {}"
   ]
  },
  {
   "cell_type": "code",
   "execution_count": 311,
   "id": "9c9b29ec-e21f-4e5d-bd7b-a9ef52088217",
   "metadata": {
    "tags": []
   },
   "outputs": [],
   "source": [
    "%%capture output\n",
    "\n",
    "xgb_params = {\n",
    "    'eta': 0.1, \n",
    "    'max_depth': 5,\n",
    "    'min_child_weight': 1,\n",
    "    \n",
    "    'objective': 'binary:logistic',\n",
    "    'eval_metric': 'auc',\n",
    "\n",
    "    'seed': 1,\n",
    "    'verbosity': 1,\n",
    "}\n",
    "\n",
    "model = xgb.train(xgb_params, dtrain, num_boost_round=200,\n",
    "                  verbose_eval=5,\n",
    "                  evals=watchlist)"
   ]
  },
  {
   "cell_type": "code",
   "execution_count": 312,
   "id": "21308084-c744-4dee-bbd2-2cd40bfa7f59",
   "metadata": {
    "tags": []
   },
   "outputs": [
    {
     "data": {
      "text/plain": [
       "'min_child_weight=1'"
      ]
     },
     "execution_count": 312,
     "metadata": {},
     "output_type": "execute_result"
    }
   ],
   "source": [
    "key = 'min_child_weight=%s' % (xgb_params['min_child_weight'])\n",
    "scores[key] = parse_xgb_output(output)\n",
    "key"
   ]
  },
  {
   "cell_type": "code",
   "execution_count": 313,
   "id": "8b3bbf4a-90e9-4b71-b492-e3bc13345b0b",
   "metadata": {
    "tags": []
   },
   "outputs": [
    {
     "data": {
      "text/plain": [
       "dict_keys(['min_child_weight=1'])"
      ]
     },
     "execution_count": 313,
     "metadata": {},
     "output_type": "execute_result"
    }
   ],
   "source": [
    "scores.keys()"
   ]
  },
  {
   "cell_type": "markdown",
   "id": "3ab7df4a-18d5-4349-bc3c-2383d161bbd4",
   "metadata": {},
   "source": [
    "> **_NOTE:_** In order to see more than one line, you need to manually change 'min_child_weight' in xgb_params and run the code in the subsequent cells. By doing this you will add an additional key to your scores dictionary."
   ]
  },
  {
   "cell_type": "code",
   "execution_count": 314,
   "id": "4d6a2978-f0db-43b1-b083-e7418da0e4a5",
   "metadata": {
    "tags": []
   },
   "outputs": [
    {
     "data": {
      "text/plain": [
       "<matplotlib.legend.Legend at 0x17ccb5f6550>"
      ]
     },
     "execution_count": 314,
     "metadata": {},
     "output_type": "execute_result"
    },
    {
     "data": {
      "image/png": "[encoded data removed]",
      "text/plain": [
       "<Figure size 640x480 with 1 Axes>"
      ]
     },
     "metadata": {},
     "output_type": "display_data"
    }
   ],
   "source": [
    "for min_child_weight, df_score in scores.items():\n",
    "    plt.plot(df_score.num_iter, df_score.val_auc, label=min_child_weight)\n",
    "\n",
    "plt.legend()"
   ]
  },
  {
   "cell_type": "markdown",
   "id": "52614c69-754d-4c38-8e67-8ebe07e56035",
   "metadata": {},
   "source": [
    "### Selecting the final model"
   ]
  },
  {
   "cell_type": "code",
   "execution_count": 316,
   "id": "c7ccb571-6257-4800-8220-e303f6c856d4",
   "metadata": {
    "tags": []
   },
   "outputs": [
    {
     "data": {
      "text/plain": [
       "0.9001686670078527"
      ]
     },
     "execution_count": 316,
     "metadata": {},
     "output_type": "execute_result"
    }
   ],
   "source": [
    "lg = LogisticRegression(max_iter=5000, C=0.1)\n",
    "lg.fit(X_train, y_train)\n",
    "y_pred = lg.predict_proba(X_val)[:, 1]\n",
    "roc_auc_score(y_val, y_pred)"
   ]
  },
  {
   "cell_type": "code",
   "execution_count": 317,
   "id": "a1cdf59a-ac07-46aa-80b3-c65762fe1c57",
   "metadata": {
    "tags": []
   },
   "outputs": [
    {
     "data": {
      "text/plain": [
       "0.8965595576136782"
      ]
     },
     "execution_count": 317,
     "metadata": {},
     "output_type": "execute_result"
    }
   ],
   "source": [
    "dt = DecisionTreeClassifier(max_depth=15, min_samples_leaf=100)\n",
    "dt.fit(X_train, y_train)\n",
    "y_pred = dt.predict_proba(X_val)[:, 1]\n",
    "roc_auc_score(y_val, y_pred)"
   ]
  },
  {
   "cell_type": "code",
   "execution_count": 318,
   "id": "15ddbe97-a334-4f5c-8f73-9283ce745d69",
   "metadata": {
    "tags": []
   },
   "outputs": [
    {
     "data": {
      "text/plain": [
       "0.9253687469848135"
      ]
     },
     "execution_count": 318,
     "metadata": {},
     "output_type": "execute_result"
    }
   ],
   "source": [
    "rf = RandomForestClassifier(n_estimators=250, max_depth=15, min_samples_leaf=1, n_jobs=-1)\n",
    "rf.fit(X_train, y_train)\n",
    "y_pred = rf.predict_proba(X_val)[:, 1]\n",
    "roc_auc_score(y_val, y_pred)"
   ]
  },
  {
   "cell_type": "code",
   "execution_count": 319,
   "id": "fffa6aab-9585-42d1-8526-3accc06470c1",
   "metadata": {
    "tags": []
   },
   "outputs": [
    {
     "data": {
      "text/plain": [
       "0.9316789704617202"
      ]
     },
     "execution_count": 319,
     "metadata": {},
     "output_type": "execute_result"
    }
   ],
   "source": [
    "xgb_params = {\n",
    "    'eta': 0.1, \n",
    "    'max_depth': 5,\n",
    "    'min_child_weight': 1,\n",
    "    'objective': 'binary:logistic',\n",
    "    'seed': 1,\n",
    "    'verbosity': 1,\n",
    "}\n",
    "\n",
    "xgb_model = xgb.train(xgb_params, dtrain, num_boost_round=200)\n",
    "y_pred = xgb_model.predict(dval)\n",
    "roc_auc_score(y_val, y_pred)"
   ]
  },
  {
   "cell_type": "markdown",
   "id": "becc30a9-8926-4e28-8868-c6ef1c2b16ba",
   "metadata": {
    "tags": []
   },
   "source": [
    "### Training the XGB model on the full data set"
   ]
  },
  {
   "cell_type": "code",
   "execution_count": 320,
   "id": "fbeb4337-262f-4a02-bddf-386fb19fc0c3",
   "metadata": {
    "tags": []
   },
   "outputs": [],
   "source": [
    "y_full_train = df_full_train.target.values"
   ]
  },
  {
   "cell_type": "code",
   "execution_count": 321,
   "id": "d540aca7-7315-4eb9-bd9b-097484de12d4",
   "metadata": {
    "tags": []
   },
   "outputs": [],
   "source": [
    "del df_full_train['target']"
   ]
  },
  {
   "cell_type": "code",
   "execution_count": 322,
   "id": "c2be1416-b8a9-496d-b046-5ab5193b337e",
   "metadata": {
    "tags": []
   },
   "outputs": [],
   "source": [
    "full_train_dict = df_full_train.to_dict(orient='records')\n",
    "X_full_train = dv.fit_transform(full_train_dict)"
   ]
  },
  {
   "cell_type": "code",
   "execution_count": 323,
   "id": "b3a19a99-ad9a-46d4-a399-79d903611fe1",
   "metadata": {
    "tags": []
   },
   "outputs": [],
   "source": [
    "test_dict = df_test.to_dict(orient='records')\n",
    "X_test = dv.fit_transform(test_dict)"
   ]
  },
  {
   "cell_type": "code",
   "execution_count": 324,
   "id": "c14a0b76-8675-4b39-82b2-2e6eacc8d388",
   "metadata": {
    "tags": []
   },
   "outputs": [],
   "source": [
    "dfulltrain = xgb.DMatrix(X_full_train, label=y_full_train, feature_names=list(features))\n",
    "dtest = xgb.DMatrix(X_test, label=y_test, feature_names=list(features))"
   ]
  },
  {
   "cell_type": "code",
   "execution_count": 325,
   "id": "7ab6e553-ce59-4598-8151-06247e7a329b",
   "metadata": {
    "tags": []
   },
   "outputs": [
    {
     "data": {
      "text/plain": [
       "0.9359310825543781"
      ]
     },
     "execution_count": 325,
     "metadata": {},
     "output_type": "execute_result"
    }
   ],
   "source": [
    "xgb_params = {\n",
    "    'eta': 0.1, \n",
    "    'max_depth': 5,\n",
    "    'min_child_weight': 1,\n",
    "    'objective': 'binary:logistic',\n",
    "    'seed': 1,\n",
    "    'verbosity': 1,\n",
    "}\n",
    "\n",
    "xgb_model = xgb.train(xgb_params, dfulltrain, num_boost_round=200)\n",
    "y_pred = xgb_model.predict(dtest)\n",
    "roc_auc_score(y_test, y_pred)"
   ]
  },
  {
   "cell_type": "markdown",
   "id": "3b4e4b9d-7a99-4577-8bc2-fb163bdf1d9f",
   "metadata": {},
   "source": [
    "### Training the Logistic regression model on the full data set"
   ]
  },
  {
   "cell_type": "code",
   "execution_count": 328,
   "id": "128493a9-4257-4c60-b47e-38ebece0a0ed",
   "metadata": {
    "tags": []
   },
   "outputs": [
    {
     "data": {
      "text/plain": [
       "0.9075726975389178"
      ]
     },
     "execution_count": 328,
     "metadata": {},
     "output_type": "execute_result"
    }
   ],
   "source": [
    "model = LogisticRegression(max_iter=5000, C=0.1)\n",
    "model.fit(X_full_train, y_full_train)\n",
    "y_pred = model.predict_proba(X_test)[:, 1]\n",
    "roc_auc_score(y_test, y_pred)"
   ]
  },
  {
   "cell_type": "markdown",
   "id": "69a5d632-b697-422a-ba71-fd05c97361a1",
   "metadata": {},
   "source": [
    "### Save the model"
   ]
  },
  {
   "cell_type": "code",
   "execution_count": 329,
   "id": "8cd5c47f-91ad-4ef4-902b-5debb156ae6a",
   "metadata": {
    "tags": []
   },
   "outputs": [],
   "source": [
    "output_file = 'model.bin'"
   ]
  },
  {
   "cell_type": "code",
   "execution_count": 330,
   "id": "50b0f9c0-2b72-4f38-9e56-854bdba17078",
   "metadata": {
    "tags": []
   },
   "outputs": [],
   "source": [
    "with open(output_file, 'wb') as f_out:\n",
    "    pickle.dump((dv, model), f_out)"
   ]
  },
  {
   "cell_type": "code",
   "execution_count": 331,
   "id": "1740fa51-a4f5-4518-8073-866c1d3e965e",
   "metadata": {
    "tags": []
   },
   "outputs": [],
   "source": [
    "with open(output_file, 'rb') as f_in:\n",
    "    (dv, model) = pickle.load(f_in)"
   ]
  },
  {
   "cell_type": "code",
   "execution_count": 332,
   "id": "c078d0a1-73b8-425b-9009-e68a06134bd2",
   "metadata": {
    "tags": []
   },
   "outputs": [
    {
     "data": {
      "text/plain": [
       "(DictVectorizer(sparse=False), LogisticRegression(C=0.1, max_iter=5000))"
      ]
     },
     "execution_count": 332,
     "metadata": {},
     "output_type": "execute_result"
    }
   ],
   "source": [
    "dv, model"
   ]
  },
  {
   "cell_type": "code",
   "execution_count": 333,
   "id": "d3d946c1-11d7-4b0e-b917-f52658789edc",
   "metadata": {
    "tags": []
   },
   "outputs": [
    {
     "data": {
      "text/html": [
       "<div>\n",
       "<style scoped>\n",
       "    .dataframe tbody tr th:only-of-type {\n",
       "        vertical-align: middle;\n",
       "    }\n",
       "\n",
       "    .dataframe tbody tr th {\n",
       "        vertical-align: top;\n",
       "    }\n",
       "\n",
       "    .dataframe thead th {\n",
       "        text-align: right;\n",
       "    }\n",
       "</style>\n",
       "<table border=\"1\" class=\"dataframe\">\n",
       "  <thead>\n",
       "    <tr style=\"text-align: right;\">\n",
       "      <th></th>\n",
       "      <th>age</th>\n",
       "      <th>job</th>\n",
       "      <th>marital_status</th>\n",
       "      <th>education</th>\n",
       "      <th>credit_in_default</th>\n",
       "      <th>average_balance</th>\n",
       "      <th>has_housing_loan</th>\n",
       "      <th>has_personal_loan</th>\n",
       "      <th>contact_type</th>\n",
       "      <th>day</th>\n",
       "      <th>month</th>\n",
       "      <th>duration</th>\n",
       "      <th>number_contacts</th>\n",
       "      <th>pdays</th>\n",
       "      <th>number_contacts_before</th>\n",
       "      <th>previous_outcome</th>\n",
       "      <th>target</th>\n",
       "    </tr>\n",
       "  </thead>\n",
       "  <tbody>\n",
       "    <tr>\n",
       "      <th>83</th>\n",
       "      <td>59.0</td>\n",
       "      <td>admin.</td>\n",
       "      <td>married</td>\n",
       "      <td>secondary</td>\n",
       "      <td>no</td>\n",
       "      <td>2343.0</td>\n",
       "      <td>yes</td>\n",
       "      <td>no</td>\n",
       "      <td>unknown</td>\n",
       "      <td>5.0</td>\n",
       "      <td>may</td>\n",
       "      <td>1042.0</td>\n",
       "      <td>1.0</td>\n",
       "      <td>-1.0</td>\n",
       "      <td>0.0</td>\n",
       "      <td>unknown</td>\n",
       "      <td>1</td>\n",
       "    </tr>\n",
       "    <tr>\n",
       "      <th>86</th>\n",
       "      <td>56.0</td>\n",
       "      <td>admin.</td>\n",
       "      <td>married</td>\n",
       "      <td>secondary</td>\n",
       "      <td>no</td>\n",
       "      <td>45.0</td>\n",
       "      <td>no</td>\n",
       "      <td>no</td>\n",
       "      <td>unknown</td>\n",
       "      <td>5.0</td>\n",
       "      <td>may</td>\n",
       "      <td>1467.0</td>\n",
       "      <td>1.0</td>\n",
       "      <td>-1.0</td>\n",
       "      <td>0.0</td>\n",
       "      <td>unknown</td>\n",
       "      <td>1</td>\n",
       "    </tr>\n",
       "    <tr>\n",
       "      <th>87</th>\n",
       "      <td>41.0</td>\n",
       "      <td>technician</td>\n",
       "      <td>married</td>\n",
       "      <td>secondary</td>\n",
       "      <td>no</td>\n",
       "      <td>1270.0</td>\n",
       "      <td>yes</td>\n",
       "      <td>no</td>\n",
       "      <td>unknown</td>\n",
       "      <td>5.0</td>\n",
       "      <td>may</td>\n",
       "      <td>1389.0</td>\n",
       "      <td>1.0</td>\n",
       "      <td>-1.0</td>\n",
       "      <td>0.0</td>\n",
       "      <td>unknown</td>\n",
       "      <td>1</td>\n",
       "    </tr>\n",
       "    <tr>\n",
       "      <th>129</th>\n",
       "      <td>55.0</td>\n",
       "      <td>services</td>\n",
       "      <td>married</td>\n",
       "      <td>secondary</td>\n",
       "      <td>no</td>\n",
       "      <td>2476.0</td>\n",
       "      <td>yes</td>\n",
       "      <td>no</td>\n",
       "      <td>unknown</td>\n",
       "      <td>5.0</td>\n",
       "      <td>may</td>\n",
       "      <td>579.0</td>\n",
       "      <td>1.0</td>\n",
       "      <td>-1.0</td>\n",
       "      <td>0.0</td>\n",
       "      <td>unknown</td>\n",
       "      <td>1</td>\n",
       "    </tr>\n",
       "    <tr>\n",
       "      <th>168</th>\n",
       "      <td>54.0</td>\n",
       "      <td>admin.</td>\n",
       "      <td>married</td>\n",
       "      <td>tertiary</td>\n",
       "      <td>no</td>\n",
       "      <td>184.0</td>\n",
       "      <td>no</td>\n",
       "      <td>no</td>\n",
       "      <td>unknown</td>\n",
       "      <td>5.0</td>\n",
       "      <td>may</td>\n",
       "      <td>673.0</td>\n",
       "      <td>2.0</td>\n",
       "      <td>-1.0</td>\n",
       "      <td>0.0</td>\n",
       "      <td>unknown</td>\n",
       "      <td>1</td>\n",
       "    </tr>\n",
       "    <tr>\n",
       "      <th>...</th>\n",
       "      <td>...</td>\n",
       "      <td>...</td>\n",
       "      <td>...</td>\n",
       "      <td>...</td>\n",
       "      <td>...</td>\n",
       "      <td>...</td>\n",
       "      <td>...</td>\n",
       "      <td>...</td>\n",
       "      <td>...</td>\n",
       "      <td>...</td>\n",
       "      <td>...</td>\n",
       "      <td>...</td>\n",
       "      <td>...</td>\n",
       "      <td>...</td>\n",
       "      <td>...</td>\n",
       "      <td>...</td>\n",
       "      <td>...</td>\n",
       "    </tr>\n",
       "    <tr>\n",
       "      <th>45204</th>\n",
       "      <td>73.0</td>\n",
       "      <td>retired</td>\n",
       "      <td>married</td>\n",
       "      <td>secondary</td>\n",
       "      <td>no</td>\n",
       "      <td>2850.0</td>\n",
       "      <td>no</td>\n",
       "      <td>no</td>\n",
       "      <td>cellular</td>\n",
       "      <td>17.0</td>\n",
       "      <td>nov</td>\n",
       "      <td>300.0</td>\n",
       "      <td>1.0</td>\n",
       "      <td>40.0</td>\n",
       "      <td>8.0</td>\n",
       "      <td>failure</td>\n",
       "      <td>1</td>\n",
       "    </tr>\n",
       "    <tr>\n",
       "      <th>45205</th>\n",
       "      <td>25.0</td>\n",
       "      <td>technician</td>\n",
       "      <td>single</td>\n",
       "      <td>secondary</td>\n",
       "      <td>no</td>\n",
       "      <td>505.0</td>\n",
       "      <td>no</td>\n",
       "      <td>yes</td>\n",
       "      <td>cellular</td>\n",
       "      <td>17.0</td>\n",
       "      <td>nov</td>\n",
       "      <td>386.0</td>\n",
       "      <td>2.0</td>\n",
       "      <td>-1.0</td>\n",
       "      <td>0.0</td>\n",
       "      <td>unknown</td>\n",
       "      <td>1</td>\n",
       "    </tr>\n",
       "    <tr>\n",
       "      <th>45206</th>\n",
       "      <td>51.0</td>\n",
       "      <td>technician</td>\n",
       "      <td>married</td>\n",
       "      <td>tertiary</td>\n",
       "      <td>no</td>\n",
       "      <td>825.0</td>\n",
       "      <td>no</td>\n",
       "      <td>no</td>\n",
       "      <td>cellular</td>\n",
       "      <td>17.0</td>\n",
       "      <td>nov</td>\n",
       "      <td>977.0</td>\n",
       "      <td>3.0</td>\n",
       "      <td>-1.0</td>\n",
       "      <td>0.0</td>\n",
       "      <td>unknown</td>\n",
       "      <td>1</td>\n",
       "    </tr>\n",
       "    <tr>\n",
       "      <th>45207</th>\n",
       "      <td>71.0</td>\n",
       "      <td>retired</td>\n",
       "      <td>divorced</td>\n",
       "      <td>primary</td>\n",
       "      <td>no</td>\n",
       "      <td>1729.0</td>\n",
       "      <td>no</td>\n",
       "      <td>no</td>\n",
       "      <td>cellular</td>\n",
       "      <td>17.0</td>\n",
       "      <td>nov</td>\n",
       "      <td>456.0</td>\n",
       "      <td>2.0</td>\n",
       "      <td>-1.0</td>\n",
       "      <td>0.0</td>\n",
       "      <td>unknown</td>\n",
       "      <td>1</td>\n",
       "    </tr>\n",
       "    <tr>\n",
       "      <th>45208</th>\n",
       "      <td>72.0</td>\n",
       "      <td>retired</td>\n",
       "      <td>married</td>\n",
       "      <td>secondary</td>\n",
       "      <td>no</td>\n",
       "      <td>5715.0</td>\n",
       "      <td>no</td>\n",
       "      <td>no</td>\n",
       "      <td>cellular</td>\n",
       "      <td>17.0</td>\n",
       "      <td>nov</td>\n",
       "      <td>1127.0</td>\n",
       "      <td>5.0</td>\n",
       "      <td>184.0</td>\n",
       "      <td>3.0</td>\n",
       "      <td>success</td>\n",
       "      <td>1</td>\n",
       "    </tr>\n",
       "  </tbody>\n",
       "</table>\n",
       "<p>5289 rows × 17 columns</p>\n",
       "</div>"
      ],
      "text/plain": [
       "        age         job marital_status  education credit_in_default  \\\n",
       "83     59.0      admin.        married  secondary                no   \n",
       "86     56.0      admin.        married  secondary                no   \n",
       "87     41.0  technician        married  secondary                no   \n",
       "129    55.0    services        married  secondary                no   \n",
       "168    54.0      admin.        married   tertiary                no   \n",
       "...     ...         ...            ...        ...               ...   \n",
       "45204  73.0     retired        married  secondary                no   \n",
       "45205  25.0  technician         single  secondary                no   \n",
       "45206  51.0  technician        married   tertiary                no   \n",
       "45207  71.0     retired       divorced    primary                no   \n",
       "45208  72.0     retired        married  secondary                no   \n",
       "\n",
       "       average_balance has_housing_loan has_personal_loan contact_type   day  \\\n",
       "83              2343.0              yes                no      unknown   5.0   \n",
       "86                45.0               no                no      unknown   5.0   \n",
       "87              1270.0              yes                no      unknown   5.0   \n",
       "129             2476.0              yes                no      unknown   5.0   \n",
       "168              184.0               no                no      unknown   5.0   \n",
       "...                ...              ...               ...          ...   ...   \n",
       "45204           2850.0               no                no     cellular  17.0   \n",
       "45205            505.0               no               yes     cellular  17.0   \n",
       "45206            825.0               no                no     cellular  17.0   \n",
       "45207           1729.0               no                no     cellular  17.0   \n",
       "45208           5715.0               no                no     cellular  17.0   \n",
       "\n",
       "      month  duration  number_contacts  pdays  number_contacts_before  \\\n",
       "83      may    1042.0              1.0   -1.0                     0.0   \n",
       "86      may    1467.0              1.0   -1.0                     0.0   \n",
       "87      may    1389.0              1.0   -1.0                     0.0   \n",
       "129     may     579.0              1.0   -1.0                     0.0   \n",
       "168     may     673.0              2.0   -1.0                     0.0   \n",
       "...     ...       ...              ...    ...                     ...   \n",
       "45204   nov     300.0              1.0   40.0                     8.0   \n",
       "45205   nov     386.0              2.0   -1.0                     0.0   \n",
       "45206   nov     977.0              3.0   -1.0                     0.0   \n",
       "45207   nov     456.0              2.0   -1.0                     0.0   \n",
       "45208   nov    1127.0              5.0  184.0                     3.0   \n",
       "\n",
       "      previous_outcome  target  \n",
       "83             unknown       1  \n",
       "86             unknown       1  \n",
       "87             unknown       1  \n",
       "129            unknown       1  \n",
       "168            unknown       1  \n",
       "...                ...     ...  \n",
       "45204          failure       1  \n",
       "45205          unknown       1  \n",
       "45206          unknown       1  \n",
       "45207          unknown       1  \n",
       "45208          success       1  \n",
       "\n",
       "[5289 rows x 17 columns]"
      ]
     },
     "execution_count": 333,
     "metadata": {},
     "output_type": "execute_result"
    }
   ],
   "source": [
    "df[df['target'] == 1]"
   ]
  },
  {
   "cell_type": "code",
   "execution_count": 343,
   "id": "27a39b17-7204-4a36-ba27-fd391da1cdd8",
   "metadata": {
    "tags": []
   },
   "outputs": [
    {
     "data": {
      "text/plain": [
       "{'age': 59.0,\n",
       " 'job': 'admin.',\n",
       " 'marital_status': 'married',\n",
       " 'education': 'secondary',\n",
       " 'credit_in_default': 'no',\n",
       " 'average_balance': 2343.0,\n",
       " 'has_housing_loan': 'yes',\n",
       " 'has_personal_loan': 'no',\n",
       " 'contact_type': 'unknown',\n",
       " 'day': 5.0,\n",
       " 'month': 'may',\n",
       " 'duration': 1042.0,\n",
       " 'number_contacts': 1.0,\n",
       " 'pdays': -1.0,\n",
       " 'number_contacts_before': 0.0,\n",
       " 'previous_outcome': 'unknown'}"
      ]
     },
     "execution_count": 343,
     "metadata": {},
     "output_type": "execute_result"
    }
   ],
   "source": [
    "client = df.loc[83].to_dict()\n",
    "del client['target']\n",
    "client"
   ]
  },
  {
   "cell_type": "code",
   "execution_count": 344,
   "id": "ad49541e-b510-4c33-85b2-74b006dd2cb3",
   "metadata": {
    "tags": []
   },
   "outputs": [
    {
     "data": {
      "text/plain": [
       "array([[ 5.900e+01,  2.343e+03,  0.000e+00,  0.000e+00,  1.000e+00,\n",
       "         1.000e+00,  0.000e+00,  5.000e+00,  1.042e+03,  0.000e+00,\n",
       "         1.000e+00,  0.000e+00,  0.000e+00,  0.000e+00,  1.000e+00,\n",
       "         1.000e+00,  0.000e+00,  1.000e+00,  0.000e+00,  0.000e+00,\n",
       "         0.000e+00,  0.000e+00,  0.000e+00,  0.000e+00,  0.000e+00,\n",
       "         0.000e+00,  0.000e+00,  0.000e+00,  0.000e+00,  0.000e+00,\n",
       "         1.000e+00,  0.000e+00,  0.000e+00,  0.000e+00,  0.000e+00,\n",
       "         0.000e+00,  0.000e+00,  0.000e+00,  0.000e+00,  0.000e+00,\n",
       "         1.000e+00,  0.000e+00,  0.000e+00,  0.000e+00,  1.000e+00,\n",
       "         0.000e+00, -1.000e+00,  0.000e+00,  0.000e+00,  0.000e+00,\n",
       "         1.000e+00]])"
      ]
     },
     "execution_count": 344,
     "metadata": {},
     "output_type": "execute_result"
    }
   ],
   "source": [
    "X_client = dv.transform([client])\n",
    "X_client"
   ]
  },
  {
   "cell_type": "code",
   "execution_count": 347,
   "id": "a2566830-6d48-4150-ba06-64b43d0a62f9",
   "metadata": {
    "tags": []
   },
   "outputs": [
    {
     "data": {
      "text/plain": [
       "0.30547185739148824"
      ]
     },
     "execution_count": 347,
     "metadata": {},
     "output_type": "execute_result"
    }
   ],
   "source": [
    "model.predict_proba(X_client)[0,1]"
   ]
  },
  {
   "cell_type": "code",
   "execution_count": null,
   "id": "74e7b2e6-92a4-497e-839a-a10177e50e35",
   "metadata": {},
   "outputs": [],
   "source": []
  }
 ],
 "metadata": {
  "kernelspec": {
   "display_name": "Python 3 (ipykernel)",
   "language": "python",
   "name": "python3"
  },
  "language_info": {
   "codemirror_mode": {
    "name": "ipython",
    "version": 3
   },
   "file_extension": ".py",
   "mimetype": "text/x-python",
   "name": "python",
   "nbconvert_exporter": "python",
   "pygments_lexer": "ipython3",
   "version": "3.9.18"
  }
 },
 "nbformat": 4,
 "nbformat_minor": 5
}
